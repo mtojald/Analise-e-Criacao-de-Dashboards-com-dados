{
 "cells": [
  {
   "cell_type": "code",
   "execution_count": null,
   "id": "373f66f3",
   "metadata": {},
   "outputs": [
    {
     "data": {
      "application/vnd.microsoft.datawrangler.viewer.v0+json": {
       "columns": [
        {
         "name": "index",
         "rawType": "int64",
         "type": "integer"
        },
        {
         "name": "Experiencia_OnBoarding",
         "rawType": "int64",
         "type": "integer"
        },
        {
         "name": "Avaliação_da_Plataforma",
         "rawType": "int64",
         "type": "integer"
        },
        {
         "name": "Avaliação_Suporte",
         "rawType": "int64",
         "type": "integer"
        },
        {
         "name": "Forma de Pagamento",
         "rawType": "object",
         "type": "string"
        },
        {
         "name": "Interacoes_Suporte",
         "rawType": "int64",
         "type": "integer"
        },
        {
         "name": "Cancelou",
         "rawType": "object",
         "type": "string"
        }
       ],
       "ref": "4eece310-ab4f-486b-86ae-be1152574019",
       "rows": [
        [
         "0",
         "1",
         "4",
         "3",
         "PIX",
         "10",
         "Cancelou"
        ],
        [
         "1",
         "4",
         "5",
         "2",
         "Cartão",
         "3",
         "Renovou"
        ],
        [
         "2",
         "2",
         "5",
         "1",
         "Boleto",
         "2",
         "Cancelou"
        ],
        [
         "3",
         "1",
         "3",
         "2",
         "Cartão",
         "1",
         "Renovou"
        ],
        [
         "4",
         "4",
         "2",
         "2",
         "PIX",
         "5",
         "Cancelou"
        ],
        [
         "5",
         "4",
         "3",
         "3",
         "Cartão",
         "3",
         "Renovou"
        ],
        [
         "6",
         "4",
         "1",
         "1",
         "PIX",
         "7",
         "Cancelou"
        ],
        [
         "7",
         "4",
         "4",
         "5",
         "Cartão",
         "4",
         "Renovou"
        ],
        [
         "8",
         "2",
         "1",
         "1",
         "Boleto",
         "4",
         "Cancelou"
        ],
        [
         "9",
         "4",
         "3",
         "4",
         "Boleto",
         "5",
         "Renovou"
        ],
        [
         "10",
         "2",
         "5",
         "2",
         "Boleto",
         "2",
         "Renovou"
        ],
        [
         "11",
         "3",
         "4",
         "5",
         "PIX",
         "4",
         "Cancelou"
        ],
        [
         "12",
         "1",
         "3",
         "1",
         "Boleto",
         "3",
         "Cancelou"
        ],
        [
         "13",
         "4",
         "2",
         "4",
         "PIX",
         "1",
         "Renovou"
        ],
        [
         "14",
         "3",
         "3",
         "1",
         "Boleto",
         "5",
         "Cancelou"
        ],
        [
         "15",
         "1",
         "2",
         "4",
         "PIX",
         "7",
         "Renovou"
        ],
        [
         "16",
         "1",
         "5",
         "3",
         "Boleto",
         "7",
         "Cancelou"
        ],
        [
         "17",
         "1",
         "2",
         "4",
         "Boleto",
         "1",
         "Renovou"
        ],
        [
         "18",
         "3",
         "1",
         "5",
         "PIX",
         "0",
         "Renovou"
        ],
        [
         "19",
         "2",
         "1",
         "4",
         "PIX",
         "4",
         "Renovou"
        ],
        [
         "20",
         "3",
         "1",
         "1",
         "Boleto",
         "5",
         "Cancelou"
        ],
        [
         "21",
         "4",
         "1",
         "2",
         "Cartão",
         "2",
         "Renovou"
        ],
        [
         "22",
         "4",
         "1",
         "4",
         "Boleto",
         "7",
         "Cancelou"
        ],
        [
         "23",
         "3",
         "2",
         "5",
         "Boleto",
         "0",
         "Cancelou"
        ],
        [
         "24",
         "1",
         "1",
         "4",
         "Cartão",
         "3",
         "Renovou"
        ],
        [
         "25",
         "2",
         "4",
         "3",
         "Boleto",
         "2",
         "Cancelou"
        ],
        [
         "26",
         "2",
         "2",
         "1",
         "Boleto",
         "0",
         "Cancelou"
        ],
        [
         "27",
         "2",
         "5",
         "2",
         "Cartão",
         "0",
         "Renovou"
        ],
        [
         "28",
         "2",
         "2",
         "5",
         "Cartão",
         "9",
         "Cancelou"
        ],
        [
         "29",
         "1",
         "3",
         "4",
         "Cartão",
         "2",
         "Renovou"
        ],
        [
         "30",
         "2",
         "5",
         "1",
         "Boleto",
         "13",
         "Cancelou"
        ],
        [
         "31",
         "1",
         "1",
         "4",
         "Cartão",
         "1",
         "Renovou"
        ],
        [
         "32",
         "4",
         "1",
         "4",
         "Cartão",
         "0",
         "Renovou"
        ],
        [
         "33",
         "1",
         "3",
         "4",
         "PIX",
         "2",
         "Cancelou"
        ],
        [
         "34",
         "4",
         "1",
         "3",
         "Boleto",
         "3",
         "Renovou"
        ],
        [
         "35",
         "2",
         "5",
         "5",
         "Cartão",
         "5",
         "Cancelou"
        ],
        [
         "36",
         "3",
         "5",
         "3",
         "PIX",
         "1",
         "Renovou"
        ],
        [
         "37",
         "4",
         "5",
         "5",
         "PIX",
         "2",
         "Renovou"
        ],
        [
         "38",
         "4",
         "2",
         "1",
         "PIX",
         "13",
         "Renovou"
        ],
        [
         "39",
         "1",
         "2",
         "2",
         "Cartão",
         "2",
         "Renovou"
        ],
        [
         "40",
         "3",
         "5",
         "3",
         "PIX",
         "1",
         "Cancelou"
        ],
        [
         "41",
         "4",
         "2",
         "5",
         "Boleto",
         "1",
         "Renovou"
        ],
        [
         "42",
         "1",
         "2",
         "1",
         "PIX",
         "0",
         "Cancelou"
        ],
        [
         "43",
         "2",
         "4",
         "3",
         "PIX",
         "3",
         "Cancelou"
        ],
        [
         "44",
         "4",
         "2",
         "5",
         "Boleto",
         "1",
         "Renovou"
        ],
        [
         "45",
         "2",
         "4",
         "1",
         "PIX",
         "3",
         "Cancelou"
        ],
        [
         "46",
         "4",
         "4",
         "2",
         "Cartão",
         "2",
         "Cancelou"
        ],
        [
         "47",
         "4",
         "2",
         "5",
         "PIX",
         "9",
         "Renovou"
        ],
        [
         "48",
         "3",
         "2",
         "3",
         "Boleto",
         "11",
         "Renovou"
        ],
        [
         "49",
         "4",
         "2",
         "3",
         "Cartão",
         "2",
         "Renovou"
        ]
       ],
       "shape": {
        "columns": 6,
        "rows": 500
       }
      },
      "text/html": [
       "<div>\n",
       "<style scoped>\n",
       "    .dataframe tbody tr th:only-of-type {\n",
       "        vertical-align: middle;\n",
       "    }\n",
       "\n",
       "    .dataframe tbody tr th {\n",
       "        vertical-align: top;\n",
       "    }\n",
       "\n",
       "    .dataframe thead th {\n",
       "        text-align: right;\n",
       "    }\n",
       "</style>\n",
       "<table border=\"1\" class=\"dataframe\">\n",
       "  <thead>\n",
       "    <tr style=\"text-align: right;\">\n",
       "      <th></th>\n",
       "      <th>Experiencia_OnBoarding</th>\n",
       "      <th>Avaliação_da_Plataforma</th>\n",
       "      <th>Avaliação_Suporte</th>\n",
       "      <th>Forma de Pagamento</th>\n",
       "      <th>Interacoes_Suporte</th>\n",
       "      <th>Cancelou</th>\n",
       "    </tr>\n",
       "  </thead>\n",
       "  <tbody>\n",
       "    <tr>\n",
       "      <th>0</th>\n",
       "      <td>1</td>\n",
       "      <td>4</td>\n",
       "      <td>3</td>\n",
       "      <td>PIX</td>\n",
       "      <td>10</td>\n",
       "      <td>Cancelou</td>\n",
       "    </tr>\n",
       "    <tr>\n",
       "      <th>1</th>\n",
       "      <td>4</td>\n",
       "      <td>5</td>\n",
       "      <td>2</td>\n",
       "      <td>Cartão</td>\n",
       "      <td>3</td>\n",
       "      <td>Renovou</td>\n",
       "    </tr>\n",
       "    <tr>\n",
       "      <th>2</th>\n",
       "      <td>2</td>\n",
       "      <td>5</td>\n",
       "      <td>1</td>\n",
       "      <td>Boleto</td>\n",
       "      <td>2</td>\n",
       "      <td>Cancelou</td>\n",
       "    </tr>\n",
       "    <tr>\n",
       "      <th>3</th>\n",
       "      <td>1</td>\n",
       "      <td>3</td>\n",
       "      <td>2</td>\n",
       "      <td>Cartão</td>\n",
       "      <td>1</td>\n",
       "      <td>Renovou</td>\n",
       "    </tr>\n",
       "    <tr>\n",
       "      <th>4</th>\n",
       "      <td>4</td>\n",
       "      <td>2</td>\n",
       "      <td>2</td>\n",
       "      <td>PIX</td>\n",
       "      <td>5</td>\n",
       "      <td>Cancelou</td>\n",
       "    </tr>\n",
       "    <tr>\n",
       "      <th>...</th>\n",
       "      <td>...</td>\n",
       "      <td>...</td>\n",
       "      <td>...</td>\n",
       "      <td>...</td>\n",
       "      <td>...</td>\n",
       "      <td>...</td>\n",
       "    </tr>\n",
       "    <tr>\n",
       "      <th>495</th>\n",
       "      <td>3</td>\n",
       "      <td>3</td>\n",
       "      <td>3</td>\n",
       "      <td>Boleto</td>\n",
       "      <td>4</td>\n",
       "      <td>Cancelou</td>\n",
       "    </tr>\n",
       "    <tr>\n",
       "      <th>496</th>\n",
       "      <td>4</td>\n",
       "      <td>3</td>\n",
       "      <td>4</td>\n",
       "      <td>Boleto</td>\n",
       "      <td>8</td>\n",
       "      <td>Renovou</td>\n",
       "    </tr>\n",
       "    <tr>\n",
       "      <th>497</th>\n",
       "      <td>3</td>\n",
       "      <td>1</td>\n",
       "      <td>1</td>\n",
       "      <td>Cartão</td>\n",
       "      <td>8</td>\n",
       "      <td>Renovou</td>\n",
       "    </tr>\n",
       "    <tr>\n",
       "      <th>498</th>\n",
       "      <td>2</td>\n",
       "      <td>3</td>\n",
       "      <td>2</td>\n",
       "      <td>Cartão</td>\n",
       "      <td>3</td>\n",
       "      <td>Renovou</td>\n",
       "    </tr>\n",
       "    <tr>\n",
       "      <th>499</th>\n",
       "      <td>3</td>\n",
       "      <td>5</td>\n",
       "      <td>2</td>\n",
       "      <td>Cartão</td>\n",
       "      <td>7</td>\n",
       "      <td>Cancelou</td>\n",
       "    </tr>\n",
       "  </tbody>\n",
       "</table>\n",
       "<p>500 rows × 6 columns</p>\n",
       "</div>"
      ],
      "text/plain": [
       "     Experiencia_OnBoarding  Avaliação_da_Plataforma  Avaliação_Suporte  \\\n",
       "0                         1                        4                  3   \n",
       "1                         4                        5                  2   \n",
       "2                         2                        5                  1   \n",
       "3                         1                        3                  2   \n",
       "4                         4                        2                  2   \n",
       "..                      ...                      ...                ...   \n",
       "495                       3                        3                  3   \n",
       "496                       4                        3                  4   \n",
       "497                       3                        1                  1   \n",
       "498                       2                        3                  2   \n",
       "499                       3                        5                  2   \n",
       "\n",
       "    Forma de Pagamento  Interacoes_Suporte  Cancelou  \n",
       "0                  PIX                  10  Cancelou  \n",
       "1               Cartão                   3   Renovou  \n",
       "2               Boleto                   2  Cancelou  \n",
       "3               Cartão                   1   Renovou  \n",
       "4                  PIX                   5  Cancelou  \n",
       "..                 ...                 ...       ...  \n",
       "495             Boleto                   4  Cancelou  \n",
       "496             Boleto                   8   Renovou  \n",
       "497             Cartão                   8   Renovou  \n",
       "498             Cartão                   3   Renovou  \n",
       "499             Cartão                   7  Cancelou  \n",
       "\n",
       "[500 rows x 6 columns]"
      ]
     },
     "metadata": {},
     "output_type": "display_data"
    },
    {
     "data": {
      "application/vnd.microsoft.datawrangler.viewer.v0+json": {
       "columns": [
        {
         "name": "Avaliação_Suporte",
         "rawType": "bool",
         "type": "boolean"
        },
        {
         "name": "count",
         "rawType": "int64",
         "type": "integer"
        }
       ],
       "ref": "b080687d-791e-4efc-aa5c-dd5162f44d24",
       "rows": [
        [
         "True",
         "298"
        ],
        [
         "False",
         "202"
        ]
       ],
       "shape": {
        "columns": 1,
        "rows": 2
       }
      },
      "text/plain": [
       "Avaliação_Suporte\n",
       "True     298\n",
       "False    202\n",
       "Name: count, dtype: int64"
      ]
     },
     "metadata": {},
     "output_type": "display_data"
    }
   ],
   "source": [
    "import pandas as pd\n",
    "\n",
    "tabela = pd.read_excel(\"BaseCancelamento.xlsx\")\n",
    "\n",
    "tabela = tabela.drop(columns=\"Código_Cliente\")\n",
    "\n",
    "\n",
    "\n",
    "display(tabela)\n",
    "\n",
    "\n",
    "\n",
    "\n"
   ]
  },
  {
   "cell_type": "code",
   "execution_count": 17,
   "id": "c55a5e11",
   "metadata": {},
   "outputs": [
    {
     "data": {
      "application/vnd.plotly.v1+json": {
       "config": {
        "plotlyServerURL": "https://plot.ly"
       },
       "data": [
        {
         "alignmentgroup": "True",
         "bingroup": "x",
         "hovertemplate": "Experiencia_OnBoarding=1<br>Cancelou=%{x}<br>count=%{y}<extra></extra>",
         "legendgroup": "1",
         "marker": {
          "color": "#636efa",
          "pattern": {
           "shape": ""
          }
         },
         "name": "1",
         "offsetgroup": "1",
         "orientation": "v",
         "showlegend": true,
         "texttemplate": "%{value}",
         "type": "histogram",
         "x": [
          "Cancelou",
          "Renovou",
          "Cancelou",
          "Renovou",
          "Cancelou",
          "Renovou",
          "Renovou",
          "Renovou",
          "Renovou",
          "Cancelou",
          "Renovou",
          "Cancelou",
          "Cancelou",
          "Renovou",
          "Renovou",
          "Cancelou",
          "Cancelou",
          "Renovou",
          "Cancelou",
          "Cancelou",
          "Renovou",
          "Cancelou",
          "Renovou",
          "Renovou",
          "Cancelou",
          "Cancelou",
          "Renovou",
          "Renovou",
          "Cancelou",
          "Renovou",
          "Renovou",
          "Renovou",
          "Renovou",
          "Renovou",
          "Cancelou",
          "Renovou",
          "Cancelou",
          "Renovou",
          "Renovou",
          "Renovou",
          "Cancelou",
          "Renovou",
          "Renovou",
          "Renovou",
          "Renovou",
          "Cancelou",
          "Renovou",
          "Cancelou",
          "Cancelou",
          "Renovou",
          "Renovou",
          "Cancelou",
          "Renovou",
          "Renovou",
          "Renovou",
          "Renovou",
          "Renovou",
          "Cancelou",
          "Cancelou",
          "Renovou",
          "Cancelou",
          "Renovou",
          "Renovou",
          "Renovou",
          "Cancelou",
          "Renovou",
          "Renovou",
          "Renovou",
          "Renovou",
          "Renovou",
          "Renovou",
          "Cancelou",
          "Renovou",
          "Renovou",
          "Cancelou",
          "Renovou",
          "Cancelou",
          "Renovou",
          "Cancelou",
          "Cancelou",
          "Cancelou",
          "Renovou",
          "Renovou",
          "Renovou",
          "Renovou",
          "Cancelou",
          "Renovou",
          "Renovou",
          "Cancelou",
          "Renovou",
          "Cancelou",
          "Renovou",
          "Renovou",
          "Renovou",
          "Cancelou",
          "Renovou",
          "Cancelou",
          "Renovou",
          "Cancelou",
          "Renovou",
          "Renovou",
          "Cancelou",
          "Cancelou",
          "Cancelou",
          "Renovou",
          "Renovou",
          "Renovou",
          "Renovou",
          "Cancelou",
          "Cancelou",
          "Renovou",
          "Renovou",
          "Cancelou",
          "Renovou",
          "Renovou",
          "Cancelou",
          "Cancelou",
          "Renovou",
          "Renovou",
          "Renovou",
          "Renovou",
          "Renovou",
          "Renovou",
          "Cancelou",
          "Renovou",
          "Renovou",
          "Renovou"
         ],
         "xaxis": "x",
         "yaxis": "y"
        },
        {
         "alignmentgroup": "True",
         "bingroup": "x",
         "hovertemplate": "Experiencia_OnBoarding=4<br>Cancelou=%{x}<br>count=%{y}<extra></extra>",
         "legendgroup": "4",
         "marker": {
          "color": "#EF553B",
          "pattern": {
           "shape": ""
          }
         },
         "name": "4",
         "offsetgroup": "4",
         "orientation": "v",
         "showlegend": true,
         "texttemplate": "%{value}",
         "type": "histogram",
         "x": [
          "Renovou",
          "Cancelou",
          "Renovou",
          "Cancelou",
          "Renovou",
          "Renovou",
          "Renovou",
          "Renovou",
          "Cancelou",
          "Renovou",
          "Renovou",
          "Renovou",
          "Renovou",
          "Renovou",
          "Renovou",
          "Cancelou",
          "Renovou",
          "Renovou",
          "Renovou",
          "Renovou",
          "Renovou",
          "Renovou",
          "Renovou",
          "Cancelou",
          "Cancelou",
          "Renovou",
          "Renovou",
          "Renovou",
          "Renovou",
          "Cancelou",
          "Renovou",
          "Renovou",
          "Renovou",
          "Renovou",
          "Cancelou",
          "Cancelou",
          "Cancelou",
          "Renovou",
          "Cancelou",
          "Cancelou",
          "Cancelou",
          "Renovou",
          "Renovou",
          "Renovou",
          "Renovou",
          "Renovou",
          "Cancelou",
          "Renovou",
          "Cancelou",
          "Renovou",
          "Cancelou",
          "Cancelou",
          "Cancelou",
          "Renovou",
          "Cancelou",
          "Cancelou",
          "Cancelou",
          "Cancelou",
          "Renovou",
          "Renovou",
          "Cancelou",
          "Cancelou",
          "Cancelou",
          "Renovou",
          "Cancelou",
          "Cancelou",
          "Renovou",
          "Cancelou",
          "Renovou",
          "Renovou",
          "Renovou",
          "Cancelou",
          "Renovou",
          "Renovou",
          "Renovou",
          "Cancelou",
          "Cancelou",
          "Cancelou",
          "Renovou",
          "Renovou",
          "Renovou",
          "Renovou",
          "Renovou",
          "Cancelou",
          "Cancelou",
          "Renovou",
          "Renovou",
          "Renovou",
          "Renovou",
          "Cancelou",
          "Cancelou",
          "Renovou",
          "Renovou",
          "Cancelou",
          "Cancelou",
          "Cancelou",
          "Renovou",
          "Cancelou",
          "Cancelou",
          "Renovou",
          "Renovou",
          "Renovou",
          "Renovou",
          "Renovou",
          "Renovou",
          "Renovou",
          "Renovou",
          "Renovou",
          "Renovou",
          "Renovou",
          "Cancelou",
          "Cancelou",
          "Renovou",
          "Cancelou",
          "Renovou",
          "Cancelou",
          "Renovou",
          "Renovou",
          "Renovou",
          "Renovou",
          "Renovou",
          "Renovou",
          "Renovou",
          "Cancelou",
          "Cancelou",
          "Cancelou",
          "Renovou",
          "Cancelou",
          "Renovou",
          "Renovou",
          "Cancelou",
          "Renovou",
          "Renovou",
          "Renovou",
          "Renovou",
          "Renovou",
          "Renovou",
          "Renovou",
          "Renovou",
          "Renovou"
         ],
         "xaxis": "x",
         "yaxis": "y"
        },
        {
         "alignmentgroup": "True",
         "bingroup": "x",
         "hovertemplate": "Experiencia_OnBoarding=2<br>Cancelou=%{x}<br>count=%{y}<extra></extra>",
         "legendgroup": "2",
         "marker": {
          "color": "#00cc96",
          "pattern": {
           "shape": ""
          }
         },
         "name": "2",
         "offsetgroup": "2",
         "orientation": "v",
         "showlegend": true,
         "texttemplate": "%{value}",
         "type": "histogram",
         "x": [
          "Cancelou",
          "Cancelou",
          "Renovou",
          "Renovou",
          "Cancelou",
          "Cancelou",
          "Renovou",
          "Cancelou",
          "Cancelou",
          "Cancelou",
          "Cancelou",
          "Cancelou",
          "Renovou",
          "Cancelou",
          "Cancelou",
          "Cancelou",
          "Renovou",
          "Renovou",
          "Renovou",
          "Renovou",
          "Renovou",
          "Renovou",
          "Cancelou",
          "Cancelou",
          "Renovou",
          "Cancelou",
          "Renovou",
          "Renovou",
          "Cancelou",
          "Cancelou",
          "Cancelou",
          "Cancelou",
          "Cancelou",
          "Renovou",
          "Renovou",
          "Renovou",
          "Renovou",
          "Renovou",
          "Renovou",
          "Cancelou",
          "Cancelou",
          "Cancelou",
          "Cancelou",
          "Renovou",
          "Renovou",
          "Renovou",
          "Renovou",
          "Cancelou",
          "Renovou",
          "Cancelou",
          "Renovou",
          "Renovou",
          "Cancelou",
          "Renovou",
          "Cancelou",
          "Cancelou",
          "Renovou",
          "Cancelou",
          "Renovou",
          "Renovou",
          "Cancelou",
          "Renovou",
          "Renovou",
          "Renovou",
          "Cancelou",
          "Renovou",
          "Cancelou",
          "Renovou",
          "Renovou",
          "Renovou",
          "Cancelou",
          "Cancelou",
          "Renovou",
          "Renovou",
          "Cancelou",
          "Renovou",
          "Renovou",
          "Renovou",
          "Renovou",
          "Cancelou",
          "Cancelou",
          "Cancelou",
          "Renovou",
          "Renovou",
          "Renovou",
          "Renovou",
          "Renovou",
          "Cancelou",
          "Renovou",
          "Renovou",
          "Cancelou",
          "Renovou",
          "Renovou",
          "Cancelou",
          "Renovou",
          "Renovou",
          "Renovou",
          "Renovou",
          "Renovou",
          "Cancelou",
          "Renovou",
          "Renovou",
          "Cancelou",
          "Renovou",
          "Renovou",
          "Cancelou",
          "Cancelou",
          "Renovou",
          "Renovou",
          "Cancelou",
          "Renovou",
          "Renovou",
          "Renovou",
          "Cancelou",
          "Renovou",
          "Renovou",
          "Cancelou",
          "Renovou",
          "Cancelou",
          "Renovou",
          "Cancelou",
          "Renovou"
         ],
         "xaxis": "x",
         "yaxis": "y"
        },
        {
         "alignmentgroup": "True",
         "bingroup": "x",
         "hovertemplate": "Experiencia_OnBoarding=3<br>Cancelou=%{x}<br>count=%{y}<extra></extra>",
         "legendgroup": "3",
         "marker": {
          "color": "#ab63fa",
          "pattern": {
           "shape": ""
          }
         },
         "name": "3",
         "offsetgroup": "3",
         "orientation": "v",
         "showlegend": true,
         "texttemplate": "%{value}",
         "type": "histogram",
         "x": [
          "Cancelou",
          "Cancelou",
          "Renovou",
          "Cancelou",
          "Cancelou",
          "Renovou",
          "Cancelou",
          "Renovou",
          "Renovou",
          "Renovou",
          "Renovou",
          "Cancelou",
          "Renovou",
          "Cancelou",
          "Cancelou",
          "Cancelou",
          "Renovou",
          "Renovou",
          "Renovou",
          "Renovou",
          "Renovou",
          "Cancelou",
          "Renovou",
          "Renovou",
          "Renovou",
          "Renovou",
          "Renovou",
          "Renovou",
          "Renovou",
          "Renovou",
          "Cancelou",
          "Renovou",
          "Cancelou",
          "Renovou",
          "Renovou",
          "Renovou",
          "Renovou",
          "Cancelou",
          "Renovou",
          "Cancelou",
          "Renovou",
          "Cancelou",
          "Renovou",
          "Renovou",
          "Renovou",
          "Renovou",
          "Cancelou",
          "Renovou",
          "Cancelou",
          "Renovou",
          "Renovou",
          "Renovou",
          "Renovou",
          "Cancelou",
          "Renovou",
          "Renovou",
          "Renovou",
          "Renovou",
          "Cancelou",
          "Renovou",
          "Renovou",
          "Renovou",
          "Renovou",
          "Renovou",
          "Cancelou",
          "Renovou",
          "Renovou",
          "Cancelou",
          "Renovou",
          "Renovou",
          "Renovou",
          "Renovou",
          "Renovou",
          "Renovou",
          "Cancelou",
          "Renovou",
          "Renovou",
          "Cancelou",
          "Renovou",
          "Cancelou",
          "Cancelou",
          "Renovou",
          "Renovou",
          "Renovou",
          "Renovou",
          "Cancelou",
          "Cancelou",
          "Renovou",
          "Renovou",
          "Renovou",
          "Cancelou",
          "Renovou",
          "Renovou",
          "Cancelou",
          "Renovou",
          "Renovou",
          "Renovou",
          "Renovou",
          "Renovou",
          "Cancelou",
          "Renovou",
          "Renovou",
          "Cancelou",
          "Renovou",
          "Renovou",
          "Renovou",
          "Cancelou",
          "Renovou",
          "Cancelou",
          "Renovou",
          "Cancelou"
         ],
         "xaxis": "x",
         "yaxis": "y"
        }
       ],
       "layout": {
        "barmode": "relative",
        "legend": {
         "title": {
          "text": "Experiencia_OnBoarding"
         },
         "tracegroupgap": 0
        },
        "margin": {
         "t": 60
        },
        "template": {
         "data": {
          "bar": [
           {
            "error_x": {
             "color": "#2a3f5f"
            },
            "error_y": {
             "color": "#2a3f5f"
            },
            "marker": {
             "line": {
              "color": "#E5ECF6",
              "width": 0.5
             },
             "pattern": {
              "fillmode": "overlay",
              "size": 10,
              "solidity": 0.2
             }
            },
            "type": "bar"
           }
          ],
          "barpolar": [
           {
            "marker": {
             "line": {
              "color": "#E5ECF6",
              "width": 0.5
             },
             "pattern": {
              "fillmode": "overlay",
              "size": 10,
              "solidity": 0.2
             }
            },
            "type": "barpolar"
           }
          ],
          "carpet": [
           {
            "aaxis": {
             "endlinecolor": "#2a3f5f",
             "gridcolor": "white",
             "linecolor": "white",
             "minorgridcolor": "white",
             "startlinecolor": "#2a3f5f"
            },
            "baxis": {
             "endlinecolor": "#2a3f5f",
             "gridcolor": "white",
             "linecolor": "white",
             "minorgridcolor": "white",
             "startlinecolor": "#2a3f5f"
            },
            "type": "carpet"
           }
          ],
          "choropleth": [
           {
            "colorbar": {
             "outlinewidth": 0,
             "ticks": ""
            },
            "type": "choropleth"
           }
          ],
          "contour": [
           {
            "colorbar": {
             "outlinewidth": 0,
             "ticks": ""
            },
            "colorscale": [
             [
              0,
              "#0d0887"
             ],
             [
              0.1111111111111111,
              "#46039f"
             ],
             [
              0.2222222222222222,
              "#7201a8"
             ],
             [
              0.3333333333333333,
              "#9c179e"
             ],
             [
              0.4444444444444444,
              "#bd3786"
             ],
             [
              0.5555555555555556,
              "#d8576b"
             ],
             [
              0.6666666666666666,
              "#ed7953"
             ],
             [
              0.7777777777777778,
              "#fb9f3a"
             ],
             [
              0.8888888888888888,
              "#fdca26"
             ],
             [
              1,
              "#f0f921"
             ]
            ],
            "type": "contour"
           }
          ],
          "contourcarpet": [
           {
            "colorbar": {
             "outlinewidth": 0,
             "ticks": ""
            },
            "type": "contourcarpet"
           }
          ],
          "heatmap": [
           {
            "colorbar": {
             "outlinewidth": 0,
             "ticks": ""
            },
            "colorscale": [
             [
              0,
              "#0d0887"
             ],
             [
              0.1111111111111111,
              "#46039f"
             ],
             [
              0.2222222222222222,
              "#7201a8"
             ],
             [
              0.3333333333333333,
              "#9c179e"
             ],
             [
              0.4444444444444444,
              "#bd3786"
             ],
             [
              0.5555555555555556,
              "#d8576b"
             ],
             [
              0.6666666666666666,
              "#ed7953"
             ],
             [
              0.7777777777777778,
              "#fb9f3a"
             ],
             [
              0.8888888888888888,
              "#fdca26"
             ],
             [
              1,
              "#f0f921"
             ]
            ],
            "type": "heatmap"
           }
          ],
          "heatmapgl": [
           {
            "colorbar": {
             "outlinewidth": 0,
             "ticks": ""
            },
            "colorscale": [
             [
              0,
              "#0d0887"
             ],
             [
              0.1111111111111111,
              "#46039f"
             ],
             [
              0.2222222222222222,
              "#7201a8"
             ],
             [
              0.3333333333333333,
              "#9c179e"
             ],
             [
              0.4444444444444444,
              "#bd3786"
             ],
             [
              0.5555555555555556,
              "#d8576b"
             ],
             [
              0.6666666666666666,
              "#ed7953"
             ],
             [
              0.7777777777777778,
              "#fb9f3a"
             ],
             [
              0.8888888888888888,
              "#fdca26"
             ],
             [
              1,
              "#f0f921"
             ]
            ],
            "type": "heatmapgl"
           }
          ],
          "histogram": [
           {
            "marker": {
             "pattern": {
              "fillmode": "overlay",
              "size": 10,
              "solidity": 0.2
             }
            },
            "type": "histogram"
           }
          ],
          "histogram2d": [
           {
            "colorbar": {
             "outlinewidth": 0,
             "ticks": ""
            },
            "colorscale": [
             [
              0,
              "#0d0887"
             ],
             [
              0.1111111111111111,
              "#46039f"
             ],
             [
              0.2222222222222222,
              "#7201a8"
             ],
             [
              0.3333333333333333,
              "#9c179e"
             ],
             [
              0.4444444444444444,
              "#bd3786"
             ],
             [
              0.5555555555555556,
              "#d8576b"
             ],
             [
              0.6666666666666666,
              "#ed7953"
             ],
             [
              0.7777777777777778,
              "#fb9f3a"
             ],
             [
              0.8888888888888888,
              "#fdca26"
             ],
             [
              1,
              "#f0f921"
             ]
            ],
            "type": "histogram2d"
           }
          ],
          "histogram2dcontour": [
           {
            "colorbar": {
             "outlinewidth": 0,
             "ticks": ""
            },
            "colorscale": [
             [
              0,
              "#0d0887"
             ],
             [
              0.1111111111111111,
              "#46039f"
             ],
             [
              0.2222222222222222,
              "#7201a8"
             ],
             [
              0.3333333333333333,
              "#9c179e"
             ],
             [
              0.4444444444444444,
              "#bd3786"
             ],
             [
              0.5555555555555556,
              "#d8576b"
             ],
             [
              0.6666666666666666,
              "#ed7953"
             ],
             [
              0.7777777777777778,
              "#fb9f3a"
             ],
             [
              0.8888888888888888,
              "#fdca26"
             ],
             [
              1,
              "#f0f921"
             ]
            ],
            "type": "histogram2dcontour"
           }
          ],
          "mesh3d": [
           {
            "colorbar": {
             "outlinewidth": 0,
             "ticks": ""
            },
            "type": "mesh3d"
           }
          ],
          "parcoords": [
           {
            "line": {
             "colorbar": {
              "outlinewidth": 0,
              "ticks": ""
             }
            },
            "type": "parcoords"
           }
          ],
          "pie": [
           {
            "automargin": true,
            "type": "pie"
           }
          ],
          "scatter": [
           {
            "fillpattern": {
             "fillmode": "overlay",
             "size": 10,
             "solidity": 0.2
            },
            "type": "scatter"
           }
          ],
          "scatter3d": [
           {
            "line": {
             "colorbar": {
              "outlinewidth": 0,
              "ticks": ""
             }
            },
            "marker": {
             "colorbar": {
              "outlinewidth": 0,
              "ticks": ""
             }
            },
            "type": "scatter3d"
           }
          ],
          "scattercarpet": [
           {
            "marker": {
             "colorbar": {
              "outlinewidth": 0,
              "ticks": ""
             }
            },
            "type": "scattercarpet"
           }
          ],
          "scattergeo": [
           {
            "marker": {
             "colorbar": {
              "outlinewidth": 0,
              "ticks": ""
             }
            },
            "type": "scattergeo"
           }
          ],
          "scattergl": [
           {
            "marker": {
             "colorbar": {
              "outlinewidth": 0,
              "ticks": ""
             }
            },
            "type": "scattergl"
           }
          ],
          "scattermapbox": [
           {
            "marker": {
             "colorbar": {
              "outlinewidth": 0,
              "ticks": ""
             }
            },
            "type": "scattermapbox"
           }
          ],
          "scatterpolar": [
           {
            "marker": {
             "colorbar": {
              "outlinewidth": 0,
              "ticks": ""
             }
            },
            "type": "scatterpolar"
           }
          ],
          "scatterpolargl": [
           {
            "marker": {
             "colorbar": {
              "outlinewidth": 0,
              "ticks": ""
             }
            },
            "type": "scatterpolargl"
           }
          ],
          "scatterternary": [
           {
            "marker": {
             "colorbar": {
              "outlinewidth": 0,
              "ticks": ""
             }
            },
            "type": "scatterternary"
           }
          ],
          "surface": [
           {
            "colorbar": {
             "outlinewidth": 0,
             "ticks": ""
            },
            "colorscale": [
             [
              0,
              "#0d0887"
             ],
             [
              0.1111111111111111,
              "#46039f"
             ],
             [
              0.2222222222222222,
              "#7201a8"
             ],
             [
              0.3333333333333333,
              "#9c179e"
             ],
             [
              0.4444444444444444,
              "#bd3786"
             ],
             [
              0.5555555555555556,
              "#d8576b"
             ],
             [
              0.6666666666666666,
              "#ed7953"
             ],
             [
              0.7777777777777778,
              "#fb9f3a"
             ],
             [
              0.8888888888888888,
              "#fdca26"
             ],
             [
              1,
              "#f0f921"
             ]
            ],
            "type": "surface"
           }
          ],
          "table": [
           {
            "cells": {
             "fill": {
              "color": "#EBF0F8"
             },
             "line": {
              "color": "white"
             }
            },
            "header": {
             "fill": {
              "color": "#C8D4E3"
             },
             "line": {
              "color": "white"
             }
            },
            "type": "table"
           }
          ]
         },
         "layout": {
          "annotationdefaults": {
           "arrowcolor": "#2a3f5f",
           "arrowhead": 0,
           "arrowwidth": 1
          },
          "autotypenumbers": "strict",
          "coloraxis": {
           "colorbar": {
            "outlinewidth": 0,
            "ticks": ""
           }
          },
          "colorscale": {
           "diverging": [
            [
             0,
             "#8e0152"
            ],
            [
             0.1,
             "#c51b7d"
            ],
            [
             0.2,
             "#de77ae"
            ],
            [
             0.3,
             "#f1b6da"
            ],
            [
             0.4,
             "#fde0ef"
            ],
            [
             0.5,
             "#f7f7f7"
            ],
            [
             0.6,
             "#e6f5d0"
            ],
            [
             0.7,
             "#b8e186"
            ],
            [
             0.8,
             "#7fbc41"
            ],
            [
             0.9,
             "#4d9221"
            ],
            [
             1,
             "#276419"
            ]
           ],
           "sequential": [
            [
             0,
             "#0d0887"
            ],
            [
             0.1111111111111111,
             "#46039f"
            ],
            [
             0.2222222222222222,
             "#7201a8"
            ],
            [
             0.3333333333333333,
             "#9c179e"
            ],
            [
             0.4444444444444444,
             "#bd3786"
            ],
            [
             0.5555555555555556,
             "#d8576b"
            ],
            [
             0.6666666666666666,
             "#ed7953"
            ],
            [
             0.7777777777777778,
             "#fb9f3a"
            ],
            [
             0.8888888888888888,
             "#fdca26"
            ],
            [
             1,
             "#f0f921"
            ]
           ],
           "sequentialminus": [
            [
             0,
             "#0d0887"
            ],
            [
             0.1111111111111111,
             "#46039f"
            ],
            [
             0.2222222222222222,
             "#7201a8"
            ],
            [
             0.3333333333333333,
             "#9c179e"
            ],
            [
             0.4444444444444444,
             "#bd3786"
            ],
            [
             0.5555555555555556,
             "#d8576b"
            ],
            [
             0.6666666666666666,
             "#ed7953"
            ],
            [
             0.7777777777777778,
             "#fb9f3a"
            ],
            [
             0.8888888888888888,
             "#fdca26"
            ],
            [
             1,
             "#f0f921"
            ]
           ]
          },
          "colorway": [
           "#636efa",
           "#EF553B",
           "#00cc96",
           "#ab63fa",
           "#FFA15A",
           "#19d3f3",
           "#FF6692",
           "#B6E880",
           "#FF97FF",
           "#FECB52"
          ],
          "font": {
           "color": "#2a3f5f"
          },
          "geo": {
           "bgcolor": "white",
           "lakecolor": "white",
           "landcolor": "#E5ECF6",
           "showlakes": true,
           "showland": true,
           "subunitcolor": "white"
          },
          "hoverlabel": {
           "align": "left"
          },
          "hovermode": "closest",
          "mapbox": {
           "style": "light"
          },
          "paper_bgcolor": "white",
          "plot_bgcolor": "#E5ECF6",
          "polar": {
           "angularaxis": {
            "gridcolor": "white",
            "linecolor": "white",
            "ticks": ""
           },
           "bgcolor": "#E5ECF6",
           "radialaxis": {
            "gridcolor": "white",
            "linecolor": "white",
            "ticks": ""
           }
          },
          "scene": {
           "xaxis": {
            "backgroundcolor": "#E5ECF6",
            "gridcolor": "white",
            "gridwidth": 2,
            "linecolor": "white",
            "showbackground": true,
            "ticks": "",
            "zerolinecolor": "white"
           },
           "yaxis": {
            "backgroundcolor": "#E5ECF6",
            "gridcolor": "white",
            "gridwidth": 2,
            "linecolor": "white",
            "showbackground": true,
            "ticks": "",
            "zerolinecolor": "white"
           },
           "zaxis": {
            "backgroundcolor": "#E5ECF6",
            "gridcolor": "white",
            "gridwidth": 2,
            "linecolor": "white",
            "showbackground": true,
            "ticks": "",
            "zerolinecolor": "white"
           }
          },
          "shapedefaults": {
           "line": {
            "color": "#2a3f5f"
           }
          },
          "ternary": {
           "aaxis": {
            "gridcolor": "white",
            "linecolor": "white",
            "ticks": ""
           },
           "baxis": {
            "gridcolor": "white",
            "linecolor": "white",
            "ticks": ""
           },
           "bgcolor": "#E5ECF6",
           "caxis": {
            "gridcolor": "white",
            "linecolor": "white",
            "ticks": ""
           }
          },
          "title": {
           "x": 0.05
          },
          "xaxis": {
           "automargin": true,
           "gridcolor": "white",
           "linecolor": "white",
           "ticks": "",
           "title": {
            "standoff": 15
           },
           "zerolinecolor": "white",
           "zerolinewidth": 2
          },
          "yaxis": {
           "automargin": true,
           "gridcolor": "white",
           "linecolor": "white",
           "ticks": "",
           "title": {
            "standoff": 15
           },
           "zerolinecolor": "white",
           "zerolinewidth": 2
          }
         }
        },
        "xaxis": {
         "anchor": "y",
         "domain": [
          0,
          1
         ],
         "title": {
          "text": "Cancelou"
         }
        },
        "yaxis": {
         "anchor": "x",
         "domain": [
          0,
          1
         ],
         "title": {
          "text": "count"
         }
        }
       }
      }
     },
     "metadata": {},
     "output_type": "display_data"
    },
    {
     "data": {
      "application/vnd.plotly.v1+json": {
       "config": {
        "plotlyServerURL": "https://plot.ly"
       },
       "data": [
        {
         "alignmentgroup": "True",
         "bingroup": "x",
         "hovertemplate": "Avaliação_da_Plataforma=4<br>Cancelou=%{x}<br>count=%{y}<extra></extra>",
         "legendgroup": "4",
         "marker": {
          "color": "#636efa",
          "pattern": {
           "shape": ""
          }
         },
         "name": "4",
         "offsetgroup": "4",
         "orientation": "v",
         "showlegend": true,
         "texttemplate": "%{value}",
         "type": "histogram",
         "x": [
          "Cancelou",
          "Renovou",
          "Cancelou",
          "Cancelou",
          "Cancelou",
          "Cancelou",
          "Cancelou",
          "Renovou",
          "Renovou",
          "Cancelou",
          "Renovou",
          "Renovou",
          "Cancelou",
          "Renovou",
          "Renovou",
          "Renovou",
          "Renovou",
          "Renovou",
          "Renovou",
          "Cancelou",
          "Cancelou",
          "Renovou",
          "Renovou",
          "Cancelou",
          "Renovou",
          "Renovou",
          "Cancelou",
          "Cancelou",
          "Cancelou",
          "Renovou",
          "Cancelou",
          "Cancelou",
          "Renovou",
          "Renovou",
          "Renovou",
          "Renovou",
          "Renovou",
          "Renovou",
          "Renovou",
          "Cancelou",
          "Cancelou",
          "Renovou",
          "Renovou",
          "Cancelou",
          "Renovou",
          "Cancelou",
          "Renovou",
          "Renovou",
          "Renovou",
          "Cancelou",
          "Renovou",
          "Renovou",
          "Renovou",
          "Renovou",
          "Renovou",
          "Cancelou",
          "Renovou",
          "Renovou",
          "Cancelou",
          "Renovou",
          "Renovou",
          "Renovou",
          "Renovou",
          "Cancelou",
          "Renovou",
          "Cancelou",
          "Renovou",
          "Renovou",
          "Cancelou",
          "Cancelou",
          "Cancelou",
          "Cancelou",
          "Renovou",
          "Cancelou",
          "Cancelou",
          "Renovou",
          "Cancelou",
          "Cancelou",
          "Renovou",
          "Cancelou",
          "Renovou",
          "Cancelou",
          "Renovou",
          "Renovou",
          "Cancelou",
          "Renovou",
          "Renovou",
          "Cancelou",
          "Renovou",
          "Renovou",
          "Renovou",
          "Cancelou",
          "Renovou",
          "Cancelou",
          "Renovou",
          "Renovou",
          "Cancelou",
          "Cancelou",
          "Renovou"
         ],
         "xaxis": "x",
         "yaxis": "y"
        },
        {
         "alignmentgroup": "True",
         "bingroup": "x",
         "hovertemplate": "Avaliação_da_Plataforma=5<br>Cancelou=%{x}<br>count=%{y}<extra></extra>",
         "legendgroup": "5",
         "marker": {
          "color": "#EF553B",
          "pattern": {
           "shape": ""
          }
         },
         "name": "5",
         "offsetgroup": "5",
         "orientation": "v",
         "showlegend": true,
         "texttemplate": "%{value}",
         "type": "histogram",
         "x": [
          "Renovou",
          "Cancelou",
          "Renovou",
          "Cancelou",
          "Renovou",
          "Cancelou",
          "Cancelou",
          "Renovou",
          "Renovou",
          "Cancelou",
          "Cancelou",
          "Renovou",
          "Renovou",
          "Renovou",
          "Renovou",
          "Cancelou",
          "Renovou",
          "Renovou",
          "Renovou",
          "Renovou",
          "Cancelou",
          "Renovou",
          "Cancelou",
          "Renovou",
          "Cancelou",
          "Renovou",
          "Renovou",
          "Cancelou",
          "Renovou",
          "Renovou",
          "Renovou",
          "Cancelou",
          "Renovou",
          "Cancelou",
          "Cancelou",
          "Cancelou",
          "Cancelou",
          "Renovou",
          "Renovou",
          "Cancelou",
          "Renovou",
          "Renovou",
          "Renovou",
          "Renovou",
          "Renovou",
          "Renovou",
          "Renovou",
          "Renovou",
          "Renovou",
          "Renovou",
          "Renovou",
          "Renovou",
          "Cancelou",
          "Cancelou",
          "Renovou",
          "Cancelou",
          "Renovou",
          "Cancelou",
          "Renovou",
          "Cancelou",
          "Renovou",
          "Renovou",
          "Cancelou",
          "Renovou",
          "Renovou",
          "Renovou",
          "Renovou",
          "Renovou",
          "Renovou",
          "Renovou",
          "Renovou",
          "Renovou",
          "Renovou",
          "Cancelou",
          "Renovou",
          "Cancelou",
          "Renovou",
          "Renovou",
          "Renovou",
          "Renovou",
          "Renovou",
          "Cancelou",
          "Renovou",
          "Cancelou",
          "Cancelou",
          "Renovou",
          "Renovou",
          "Renovou",
          "Renovou",
          "Renovou",
          "Cancelou",
          "Cancelou",
          "Renovou",
          "Renovou",
          "Renovou",
          "Renovou",
          "Renovou",
          "Renovou",
          "Cancelou",
          "Cancelou",
          "Renovou",
          "Renovou",
          "Renovou",
          "Cancelou",
          "Cancelou"
         ],
         "xaxis": "x",
         "yaxis": "y"
        },
        {
         "alignmentgroup": "True",
         "bingroup": "x",
         "hovertemplate": "Avaliação_da_Plataforma=3<br>Cancelou=%{x}<br>count=%{y}<extra></extra>",
         "legendgroup": "3",
         "marker": {
          "color": "#00cc96",
          "pattern": {
           "shape": ""
          }
         },
         "name": "3",
         "offsetgroup": "3",
         "orientation": "v",
         "showlegend": true,
         "texttemplate": "%{value}",
         "type": "histogram",
         "x": [
          "Renovou",
          "Renovou",
          "Renovou",
          "Cancelou",
          "Cancelou",
          "Renovou",
          "Cancelou",
          "Renovou",
          "Cancelou",
          "Cancelou",
          "Renovou",
          "Cancelou",
          "Renovou",
          "Renovou",
          "Renovou",
          "Renovou",
          "Cancelou",
          "Cancelou",
          "Renovou",
          "Renovou",
          "Renovou",
          "Cancelou",
          "Cancelou",
          "Renovou",
          "Renovou",
          "Renovou",
          "Renovou",
          "Renovou",
          "Renovou",
          "Renovou",
          "Renovou",
          "Renovou",
          "Cancelou",
          "Cancelou",
          "Cancelou",
          "Renovou",
          "Cancelou",
          "Renovou",
          "Cancelou",
          "Cancelou",
          "Renovou",
          "Cancelou",
          "Renovou",
          "Cancelou",
          "Renovou",
          "Cancelou",
          "Renovou",
          "Renovou",
          "Renovou",
          "Cancelou",
          "Renovou",
          "Renovou",
          "Renovou",
          "Cancelou",
          "Renovou",
          "Renovou",
          "Cancelou",
          "Renovou",
          "Cancelou",
          "Cancelou",
          "Cancelou",
          "Renovou",
          "Renovou",
          "Renovou",
          "Renovou",
          "Cancelou",
          "Renovou",
          "Cancelou",
          "Cancelou",
          "Renovou",
          "Renovou",
          "Renovou",
          "Renovou",
          "Renovou",
          "Cancelou",
          "Renovou",
          "Renovou",
          "Renovou",
          "Renovou",
          "Renovou",
          "Cancelou",
          "Renovou",
          "Renovou",
          "Cancelou",
          "Renovou",
          "Cancelou",
          "Renovou",
          "Renovou",
          "Cancelou",
          "Renovou",
          "Renovou",
          "Renovou",
          "Renovou",
          "Renovou",
          "Cancelou",
          "Renovou",
          "Cancelou",
          "Renovou",
          "Renovou"
         ],
         "xaxis": "x",
         "yaxis": "y"
        },
        {
         "alignmentgroup": "True",
         "bingroup": "x",
         "hovertemplate": "Avaliação_da_Plataforma=2<br>Cancelou=%{x}<br>count=%{y}<extra></extra>",
         "legendgroup": "2",
         "marker": {
          "color": "#ab63fa",
          "pattern": {
           "shape": ""
          }
         },
         "name": "2",
         "offsetgroup": "2",
         "orientation": "v",
         "showlegend": true,
         "texttemplate": "%{value}",
         "type": "histogram",
         "x": [
          "Cancelou",
          "Renovou",
          "Renovou",
          "Renovou",
          "Cancelou",
          "Cancelou",
          "Cancelou",
          "Renovou",
          "Renovou",
          "Renovou",
          "Cancelou",
          "Renovou",
          "Renovou",
          "Renovou",
          "Renovou",
          "Renovou",
          "Renovou",
          "Cancelou",
          "Cancelou",
          "Cancelou",
          "Renovou",
          "Cancelou",
          "Renovou",
          "Cancelou",
          "Renovou",
          "Renovou",
          "Renovou",
          "Cancelou",
          "Renovou",
          "Renovou",
          "Renovou",
          "Renovou",
          "Renovou",
          "Renovou",
          "Renovou",
          "Renovou",
          "Cancelou",
          "Cancelou",
          "Cancelou",
          "Cancelou",
          "Renovou",
          "Renovou",
          "Renovou",
          "Renovou",
          "Cancelou",
          "Cancelou",
          "Cancelou",
          "Cancelou",
          "Renovou",
          "Cancelou",
          "Cancelou",
          "Renovou",
          "Renovou",
          "Cancelou",
          "Renovou",
          "Renovou",
          "Renovou",
          "Renovou",
          "Renovou",
          "Renovou",
          "Renovou",
          "Renovou",
          "Renovou",
          "Renovou",
          "Renovou",
          "Renovou",
          "Cancelou",
          "Cancelou",
          "Renovou",
          "Cancelou",
          "Renovou",
          "Cancelou",
          "Renovou",
          "Cancelou",
          "Renovou",
          "Renovou",
          "Renovou",
          "Renovou",
          "Renovou",
          "Renovou",
          "Renovou",
          "Renovou",
          "Cancelou",
          "Renovou",
          "Cancelou",
          "Cancelou",
          "Renovou",
          "Cancelou",
          "Renovou",
          "Cancelou",
          "Renovou",
          "Cancelou",
          "Renovou",
          "Cancelou",
          "Renovou",
          "Renovou",
          "Renovou",
          "Renovou",
          "Renovou"
         ],
         "xaxis": "x",
         "yaxis": "y"
        },
        {
         "alignmentgroup": "True",
         "bingroup": "x",
         "hovertemplate": "Avaliação_da_Plataforma=1<br>Cancelou=%{x}<br>count=%{y}<extra></extra>",
         "legendgroup": "1",
         "marker": {
          "color": "#FFA15A",
          "pattern": {
           "shape": ""
          }
         },
         "name": "1",
         "offsetgroup": "1",
         "orientation": "v",
         "showlegend": true,
         "texttemplate": "%{value}",
         "type": "histogram",
         "x": [
          "Cancelou",
          "Cancelou",
          "Renovou",
          "Renovou",
          "Cancelou",
          "Renovou",
          "Cancelou",
          "Renovou",
          "Renovou",
          "Renovou",
          "Renovou",
          "Cancelou",
          "Cancelou",
          "Renovou",
          "Renovou",
          "Cancelou",
          "Cancelou",
          "Renovou",
          "Cancelou",
          "Renovou",
          "Cancelou",
          "Renovou",
          "Renovou",
          "Cancelou",
          "Cancelou",
          "Renovou",
          "Renovou",
          "Renovou",
          "Cancelou",
          "Cancelou",
          "Renovou",
          "Cancelou",
          "Renovou",
          "Renovou",
          "Renovou",
          "Cancelou",
          "Cancelou",
          "Renovou",
          "Cancelou",
          "Cancelou",
          "Cancelou",
          "Renovou",
          "Renovou",
          "Renovou",
          "Cancelou",
          "Renovou",
          "Renovou",
          "Cancelou",
          "Cancelou",
          "Renovou",
          "Cancelou",
          "Renovou",
          "Cancelou",
          "Cancelou",
          "Cancelou",
          "Cancelou",
          "Cancelou",
          "Renovou",
          "Renovou",
          "Cancelou",
          "Renovou",
          "Renovou",
          "Renovou",
          "Renovou",
          "Renovou",
          "Renovou",
          "Renovou",
          "Renovou",
          "Cancelou",
          "Renovou",
          "Renovou",
          "Renovou",
          "Cancelou",
          "Renovou",
          "Cancelou",
          "Renovou",
          "Renovou",
          "Renovou",
          "Renovou",
          "Renovou",
          "Cancelou",
          "Cancelou",
          "Renovou",
          "Renovou",
          "Cancelou",
          "Renovou",
          "Renovou",
          "Renovou",
          "Cancelou",
          "Renovou",
          "Renovou",
          "Renovou",
          "Renovou",
          "Renovou",
          "Renovou",
          "Renovou",
          "Renovou",
          "Renovou"
         ],
         "xaxis": "x",
         "yaxis": "y"
        }
       ],
       "layout": {
        "barmode": "relative",
        "legend": {
         "title": {
          "text": "Avaliação_da_Plataforma"
         },
         "tracegroupgap": 0
        },
        "margin": {
         "t": 60
        },
        "template": {
         "data": {
          "bar": [
           {
            "error_x": {
             "color": "#2a3f5f"
            },
            "error_y": {
             "color": "#2a3f5f"
            },
            "marker": {
             "line": {
              "color": "#E5ECF6",
              "width": 0.5
             },
             "pattern": {
              "fillmode": "overlay",
              "size": 10,
              "solidity": 0.2
             }
            },
            "type": "bar"
           }
          ],
          "barpolar": [
           {
            "marker": {
             "line": {
              "color": "#E5ECF6",
              "width": 0.5
             },
             "pattern": {
              "fillmode": "overlay",
              "size": 10,
              "solidity": 0.2
             }
            },
            "type": "barpolar"
           }
          ],
          "carpet": [
           {
            "aaxis": {
             "endlinecolor": "#2a3f5f",
             "gridcolor": "white",
             "linecolor": "white",
             "minorgridcolor": "white",
             "startlinecolor": "#2a3f5f"
            },
            "baxis": {
             "endlinecolor": "#2a3f5f",
             "gridcolor": "white",
             "linecolor": "white",
             "minorgridcolor": "white",
             "startlinecolor": "#2a3f5f"
            },
            "type": "carpet"
           }
          ],
          "choropleth": [
           {
            "colorbar": {
             "outlinewidth": 0,
             "ticks": ""
            },
            "type": "choropleth"
           }
          ],
          "contour": [
           {
            "colorbar": {
             "outlinewidth": 0,
             "ticks": ""
            },
            "colorscale": [
             [
              0,
              "#0d0887"
             ],
             [
              0.1111111111111111,
              "#46039f"
             ],
             [
              0.2222222222222222,
              "#7201a8"
             ],
             [
              0.3333333333333333,
              "#9c179e"
             ],
             [
              0.4444444444444444,
              "#bd3786"
             ],
             [
              0.5555555555555556,
              "#d8576b"
             ],
             [
              0.6666666666666666,
              "#ed7953"
             ],
             [
              0.7777777777777778,
              "#fb9f3a"
             ],
             [
              0.8888888888888888,
              "#fdca26"
             ],
             [
              1,
              "#f0f921"
             ]
            ],
            "type": "contour"
           }
          ],
          "contourcarpet": [
           {
            "colorbar": {
             "outlinewidth": 0,
             "ticks": ""
            },
            "type": "contourcarpet"
           }
          ],
          "heatmap": [
           {
            "colorbar": {
             "outlinewidth": 0,
             "ticks": ""
            },
            "colorscale": [
             [
              0,
              "#0d0887"
             ],
             [
              0.1111111111111111,
              "#46039f"
             ],
             [
              0.2222222222222222,
              "#7201a8"
             ],
             [
              0.3333333333333333,
              "#9c179e"
             ],
             [
              0.4444444444444444,
              "#bd3786"
             ],
             [
              0.5555555555555556,
              "#d8576b"
             ],
             [
              0.6666666666666666,
              "#ed7953"
             ],
             [
              0.7777777777777778,
              "#fb9f3a"
             ],
             [
              0.8888888888888888,
              "#fdca26"
             ],
             [
              1,
              "#f0f921"
             ]
            ],
            "type": "heatmap"
           }
          ],
          "heatmapgl": [
           {
            "colorbar": {
             "outlinewidth": 0,
             "ticks": ""
            },
            "colorscale": [
             [
              0,
              "#0d0887"
             ],
             [
              0.1111111111111111,
              "#46039f"
             ],
             [
              0.2222222222222222,
              "#7201a8"
             ],
             [
              0.3333333333333333,
              "#9c179e"
             ],
             [
              0.4444444444444444,
              "#bd3786"
             ],
             [
              0.5555555555555556,
              "#d8576b"
             ],
             [
              0.6666666666666666,
              "#ed7953"
             ],
             [
              0.7777777777777778,
              "#fb9f3a"
             ],
             [
              0.8888888888888888,
              "#fdca26"
             ],
             [
              1,
              "#f0f921"
             ]
            ],
            "type": "heatmapgl"
           }
          ],
          "histogram": [
           {
            "marker": {
             "pattern": {
              "fillmode": "overlay",
              "size": 10,
              "solidity": 0.2
             }
            },
            "type": "histogram"
           }
          ],
          "histogram2d": [
           {
            "colorbar": {
             "outlinewidth": 0,
             "ticks": ""
            },
            "colorscale": [
             [
              0,
              "#0d0887"
             ],
             [
              0.1111111111111111,
              "#46039f"
             ],
             [
              0.2222222222222222,
              "#7201a8"
             ],
             [
              0.3333333333333333,
              "#9c179e"
             ],
             [
              0.4444444444444444,
              "#bd3786"
             ],
             [
              0.5555555555555556,
              "#d8576b"
             ],
             [
              0.6666666666666666,
              "#ed7953"
             ],
             [
              0.7777777777777778,
              "#fb9f3a"
             ],
             [
              0.8888888888888888,
              "#fdca26"
             ],
             [
              1,
              "#f0f921"
             ]
            ],
            "type": "histogram2d"
           }
          ],
          "histogram2dcontour": [
           {
            "colorbar": {
             "outlinewidth": 0,
             "ticks": ""
            },
            "colorscale": [
             [
              0,
              "#0d0887"
             ],
             [
              0.1111111111111111,
              "#46039f"
             ],
             [
              0.2222222222222222,
              "#7201a8"
             ],
             [
              0.3333333333333333,
              "#9c179e"
             ],
             [
              0.4444444444444444,
              "#bd3786"
             ],
             [
              0.5555555555555556,
              "#d8576b"
             ],
             [
              0.6666666666666666,
              "#ed7953"
             ],
             [
              0.7777777777777778,
              "#fb9f3a"
             ],
             [
              0.8888888888888888,
              "#fdca26"
             ],
             [
              1,
              "#f0f921"
             ]
            ],
            "type": "histogram2dcontour"
           }
          ],
          "mesh3d": [
           {
            "colorbar": {
             "outlinewidth": 0,
             "ticks": ""
            },
            "type": "mesh3d"
           }
          ],
          "parcoords": [
           {
            "line": {
             "colorbar": {
              "outlinewidth": 0,
              "ticks": ""
             }
            },
            "type": "parcoords"
           }
          ],
          "pie": [
           {
            "automargin": true,
            "type": "pie"
           }
          ],
          "scatter": [
           {
            "fillpattern": {
             "fillmode": "overlay",
             "size": 10,
             "solidity": 0.2
            },
            "type": "scatter"
           }
          ],
          "scatter3d": [
           {
            "line": {
             "colorbar": {
              "outlinewidth": 0,
              "ticks": ""
             }
            },
            "marker": {
             "colorbar": {
              "outlinewidth": 0,
              "ticks": ""
             }
            },
            "type": "scatter3d"
           }
          ],
          "scattercarpet": [
           {
            "marker": {
             "colorbar": {
              "outlinewidth": 0,
              "ticks": ""
             }
            },
            "type": "scattercarpet"
           }
          ],
          "scattergeo": [
           {
            "marker": {
             "colorbar": {
              "outlinewidth": 0,
              "ticks": ""
             }
            },
            "type": "scattergeo"
           }
          ],
          "scattergl": [
           {
            "marker": {
             "colorbar": {
              "outlinewidth": 0,
              "ticks": ""
             }
            },
            "type": "scattergl"
           }
          ],
          "scattermapbox": [
           {
            "marker": {
             "colorbar": {
              "outlinewidth": 0,
              "ticks": ""
             }
            },
            "type": "scattermapbox"
           }
          ],
          "scatterpolar": [
           {
            "marker": {
             "colorbar": {
              "outlinewidth": 0,
              "ticks": ""
             }
            },
            "type": "scatterpolar"
           }
          ],
          "scatterpolargl": [
           {
            "marker": {
             "colorbar": {
              "outlinewidth": 0,
              "ticks": ""
             }
            },
            "type": "scatterpolargl"
           }
          ],
          "scatterternary": [
           {
            "marker": {
             "colorbar": {
              "outlinewidth": 0,
              "ticks": ""
             }
            },
            "type": "scatterternary"
           }
          ],
          "surface": [
           {
            "colorbar": {
             "outlinewidth": 0,
             "ticks": ""
            },
            "colorscale": [
             [
              0,
              "#0d0887"
             ],
             [
              0.1111111111111111,
              "#46039f"
             ],
             [
              0.2222222222222222,
              "#7201a8"
             ],
             [
              0.3333333333333333,
              "#9c179e"
             ],
             [
              0.4444444444444444,
              "#bd3786"
             ],
             [
              0.5555555555555556,
              "#d8576b"
             ],
             [
              0.6666666666666666,
              "#ed7953"
             ],
             [
              0.7777777777777778,
              "#fb9f3a"
             ],
             [
              0.8888888888888888,
              "#fdca26"
             ],
             [
              1,
              "#f0f921"
             ]
            ],
            "type": "surface"
           }
          ],
          "table": [
           {
            "cells": {
             "fill": {
              "color": "#EBF0F8"
             },
             "line": {
              "color": "white"
             }
            },
            "header": {
             "fill": {
              "color": "#C8D4E3"
             },
             "line": {
              "color": "white"
             }
            },
            "type": "table"
           }
          ]
         },
         "layout": {
          "annotationdefaults": {
           "arrowcolor": "#2a3f5f",
           "arrowhead": 0,
           "arrowwidth": 1
          },
          "autotypenumbers": "strict",
          "coloraxis": {
           "colorbar": {
            "outlinewidth": 0,
            "ticks": ""
           }
          },
          "colorscale": {
           "diverging": [
            [
             0,
             "#8e0152"
            ],
            [
             0.1,
             "#c51b7d"
            ],
            [
             0.2,
             "#de77ae"
            ],
            [
             0.3,
             "#f1b6da"
            ],
            [
             0.4,
             "#fde0ef"
            ],
            [
             0.5,
             "#f7f7f7"
            ],
            [
             0.6,
             "#e6f5d0"
            ],
            [
             0.7,
             "#b8e186"
            ],
            [
             0.8,
             "#7fbc41"
            ],
            [
             0.9,
             "#4d9221"
            ],
            [
             1,
             "#276419"
            ]
           ],
           "sequential": [
            [
             0,
             "#0d0887"
            ],
            [
             0.1111111111111111,
             "#46039f"
            ],
            [
             0.2222222222222222,
             "#7201a8"
            ],
            [
             0.3333333333333333,
             "#9c179e"
            ],
            [
             0.4444444444444444,
             "#bd3786"
            ],
            [
             0.5555555555555556,
             "#d8576b"
            ],
            [
             0.6666666666666666,
             "#ed7953"
            ],
            [
             0.7777777777777778,
             "#fb9f3a"
            ],
            [
             0.8888888888888888,
             "#fdca26"
            ],
            [
             1,
             "#f0f921"
            ]
           ],
           "sequentialminus": [
            [
             0,
             "#0d0887"
            ],
            [
             0.1111111111111111,
             "#46039f"
            ],
            [
             0.2222222222222222,
             "#7201a8"
            ],
            [
             0.3333333333333333,
             "#9c179e"
            ],
            [
             0.4444444444444444,
             "#bd3786"
            ],
            [
             0.5555555555555556,
             "#d8576b"
            ],
            [
             0.6666666666666666,
             "#ed7953"
            ],
            [
             0.7777777777777778,
             "#fb9f3a"
            ],
            [
             0.8888888888888888,
             "#fdca26"
            ],
            [
             1,
             "#f0f921"
            ]
           ]
          },
          "colorway": [
           "#636efa",
           "#EF553B",
           "#00cc96",
           "#ab63fa",
           "#FFA15A",
           "#19d3f3",
           "#FF6692",
           "#B6E880",
           "#FF97FF",
           "#FECB52"
          ],
          "font": {
           "color": "#2a3f5f"
          },
          "geo": {
           "bgcolor": "white",
           "lakecolor": "white",
           "landcolor": "#E5ECF6",
           "showlakes": true,
           "showland": true,
           "subunitcolor": "white"
          },
          "hoverlabel": {
           "align": "left"
          },
          "hovermode": "closest",
          "mapbox": {
           "style": "light"
          },
          "paper_bgcolor": "white",
          "plot_bgcolor": "#E5ECF6",
          "polar": {
           "angularaxis": {
            "gridcolor": "white",
            "linecolor": "white",
            "ticks": ""
           },
           "bgcolor": "#E5ECF6",
           "radialaxis": {
            "gridcolor": "white",
            "linecolor": "white",
            "ticks": ""
           }
          },
          "scene": {
           "xaxis": {
            "backgroundcolor": "#E5ECF6",
            "gridcolor": "white",
            "gridwidth": 2,
            "linecolor": "white",
            "showbackground": true,
            "ticks": "",
            "zerolinecolor": "white"
           },
           "yaxis": {
            "backgroundcolor": "#E5ECF6",
            "gridcolor": "white",
            "gridwidth": 2,
            "linecolor": "white",
            "showbackground": true,
            "ticks": "",
            "zerolinecolor": "white"
           },
           "zaxis": {
            "backgroundcolor": "#E5ECF6",
            "gridcolor": "white",
            "gridwidth": 2,
            "linecolor": "white",
            "showbackground": true,
            "ticks": "",
            "zerolinecolor": "white"
           }
          },
          "shapedefaults": {
           "line": {
            "color": "#2a3f5f"
           }
          },
          "ternary": {
           "aaxis": {
            "gridcolor": "white",
            "linecolor": "white",
            "ticks": ""
           },
           "baxis": {
            "gridcolor": "white",
            "linecolor": "white",
            "ticks": ""
           },
           "bgcolor": "#E5ECF6",
           "caxis": {
            "gridcolor": "white",
            "linecolor": "white",
            "ticks": ""
           }
          },
          "title": {
           "x": 0.05
          },
          "xaxis": {
           "automargin": true,
           "gridcolor": "white",
           "linecolor": "white",
           "ticks": "",
           "title": {
            "standoff": 15
           },
           "zerolinecolor": "white",
           "zerolinewidth": 2
          },
          "yaxis": {
           "automargin": true,
           "gridcolor": "white",
           "linecolor": "white",
           "ticks": "",
           "title": {
            "standoff": 15
           },
           "zerolinecolor": "white",
           "zerolinewidth": 2
          }
         }
        },
        "xaxis": {
         "anchor": "y",
         "domain": [
          0,
          1
         ],
         "title": {
          "text": "Cancelou"
         }
        },
        "yaxis": {
         "anchor": "x",
         "domain": [
          0,
          1
         ],
         "title": {
          "text": "count"
         }
        }
       }
      }
     },
     "metadata": {},
     "output_type": "display_data"
    },
    {
     "data": {
      "application/vnd.plotly.v1+json": {
       "config": {
        "plotlyServerURL": "https://plot.ly"
       },
       "data": [
        {
         "alignmentgroup": "True",
         "bingroup": "x",
         "hovertemplate": "Avaliação_Suporte=3<br>Cancelou=%{x}<br>count=%{y}<extra></extra>",
         "legendgroup": "3",
         "marker": {
          "color": "#636efa",
          "pattern": {
           "shape": ""
          }
         },
         "name": "3",
         "offsetgroup": "3",
         "orientation": "v",
         "showlegend": true,
         "texttemplate": "%{value}",
         "type": "histogram",
         "x": [
          "Cancelou",
          "Renovou",
          "Cancelou",
          "Cancelou",
          "Renovou",
          "Renovou",
          "Cancelou",
          "Cancelou",
          "Renovou",
          "Renovou",
          "Cancelou",
          "Renovou",
          "Renovou",
          "Renovou",
          "Renovou",
          "Cancelou",
          "Renovou",
          "Renovou",
          "Cancelou",
          "Cancelou",
          "Renovou",
          "Cancelou",
          "Renovou",
          "Renovou",
          "Cancelou",
          "Renovou",
          "Renovou",
          "Renovou",
          "Renovou",
          "Renovou",
          "Renovou",
          "Renovou",
          "Renovou",
          "Cancelou",
          "Renovou",
          "Renovou",
          "Renovou",
          "Renovou",
          "Renovou",
          "Cancelou",
          "Renovou",
          "Cancelou",
          "Renovou",
          "Renovou",
          "Renovou",
          "Renovou",
          "Cancelou",
          "Renovou",
          "Renovou",
          "Renovou",
          "Renovou",
          "Renovou",
          "Renovou",
          "Renovou",
          "Cancelou",
          "Cancelou",
          "Renovou",
          "Cancelou",
          "Renovou",
          "Renovou",
          "Cancelou",
          "Renovou",
          "Cancelou",
          "Cancelou",
          "Cancelou",
          "Renovou",
          "Cancelou",
          "Renovou",
          "Cancelou",
          "Cancelou",
          "Cancelou",
          "Cancelou",
          "Renovou",
          "Renovou",
          "Cancelou",
          "Renovou",
          "Renovou",
          "Renovou",
          "Cancelou",
          "Renovou",
          "Cancelou",
          "Renovou",
          "Renovou",
          "Cancelou",
          "Renovou",
          "Renovou",
          "Cancelou",
          "Renovou",
          "Cancelou",
          "Renovou",
          "Cancelou",
          "Renovou",
          "Renovou",
          "Renovou",
          "Cancelou",
          "Renovou",
          "Cancelou",
          "Renovou",
          "Renovou",
          "Cancelou",
          "Renovou",
          "Renovou",
          "Renovou",
          "Cancelou"
         ],
         "xaxis": "x",
         "yaxis": "y"
        },
        {
         "alignmentgroup": "True",
         "bingroup": "x",
         "hovertemplate": "Avaliação_Suporte=2<br>Cancelou=%{x}<br>count=%{y}<extra></extra>",
         "legendgroup": "2",
         "marker": {
          "color": "#EF553B",
          "pattern": {
           "shape": ""
          }
         },
         "name": "2",
         "offsetgroup": "2",
         "orientation": "v",
         "showlegend": true,
         "texttemplate": "%{value}",
         "type": "histogram",
         "x": [
          "Renovou",
          "Renovou",
          "Cancelou",
          "Renovou",
          "Renovou",
          "Renovou",
          "Renovou",
          "Cancelou",
          "Renovou",
          "Cancelou",
          "Cancelou",
          "Renovou",
          "Cancelou",
          "Renovou",
          "Renovou",
          "Renovou",
          "Renovou",
          "Cancelou",
          "Renovou",
          "Renovou",
          "Cancelou",
          "Cancelou",
          "Renovou",
          "Cancelou",
          "Cancelou",
          "Renovou",
          "Renovou",
          "Cancelou",
          "Renovou",
          "Cancelou",
          "Renovou",
          "Cancelou",
          "Cancelou",
          "Cancelou",
          "Renovou",
          "Cancelou",
          "Renovou",
          "Cancelou",
          "Renovou",
          "Renovou",
          "Renovou",
          "Cancelou",
          "Renovou",
          "Renovou",
          "Renovou",
          "Renovou",
          "Cancelou",
          "Renovou",
          "Cancelou",
          "Renovou",
          "Renovou",
          "Renovou",
          "Cancelou",
          "Renovou",
          "Renovou",
          "Cancelou",
          "Renovou",
          "Cancelou",
          "Renovou",
          "Cancelou",
          "Cancelou",
          "Renovou",
          "Cancelou",
          "Renovou",
          "Renovou",
          "Cancelou",
          "Renovou",
          "Cancelou",
          "Cancelou",
          "Renovou",
          "Renovou",
          "Cancelou",
          "Renovou",
          "Renovou",
          "Renovou",
          "Renovou",
          "Renovou",
          "Renovou",
          "Cancelou",
          "Renovou",
          "Renovou",
          "Cancelou",
          "Renovou",
          "Cancelou",
          "Renovou",
          "Cancelou",
          "Cancelou",
          "Renovou",
          "Cancelou",
          "Renovou",
          "Renovou",
          "Renovou",
          "Cancelou",
          "Cancelou",
          "Renovou",
          "Cancelou",
          "Cancelou",
          "Renovou",
          "Renovou",
          "Renovou",
          "Renovou",
          "Cancelou"
         ],
         "xaxis": "x",
         "yaxis": "y"
        },
        {
         "alignmentgroup": "True",
         "bingroup": "x",
         "hovertemplate": "Avaliação_Suporte=1<br>Cancelou=%{x}<br>count=%{y}<extra></extra>",
         "legendgroup": "1",
         "marker": {
          "color": "#00cc96",
          "pattern": {
           "shape": ""
          }
         },
         "name": "1",
         "offsetgroup": "1",
         "orientation": "v",
         "showlegend": true,
         "texttemplate": "%{value}",
         "type": "histogram",
         "x": [
          "Cancelou",
          "Cancelou",
          "Cancelou",
          "Cancelou",
          "Cancelou",
          "Cancelou",
          "Cancelou",
          "Cancelou",
          "Renovou",
          "Cancelou",
          "Cancelou",
          "Renovou",
          "Cancelou",
          "Cancelou",
          "Renovou",
          "Cancelou",
          "Renovou",
          "Renovou",
          "Renovou",
          "Renovou",
          "Cancelou",
          "Cancelou",
          "Cancelou",
          "Cancelou",
          "Cancelou",
          "Cancelou",
          "Cancelou",
          "Cancelou",
          "Renovou",
          "Cancelou",
          "Cancelou",
          "Renovou",
          "Renovou",
          "Renovou",
          "Cancelou",
          "Cancelou",
          "Cancelou",
          "Cancelou",
          "Renovou",
          "Cancelou",
          "Cancelou",
          "Renovou",
          "Cancelou",
          "Cancelou",
          "Cancelou",
          "Renovou",
          "Cancelou",
          "Cancelou",
          "Cancelou",
          "Renovou",
          "Renovou",
          "Renovou",
          "Cancelou",
          "Cancelou",
          "Renovou",
          "Renovou",
          "Cancelou",
          "Renovou",
          "Renovou",
          "Cancelou",
          "Cancelou",
          "Renovou",
          "Renovou",
          "Renovou",
          "Cancelou",
          "Cancelou",
          "Renovou",
          "Renovou",
          "Cancelou",
          "Renovou",
          "Cancelou",
          "Renovou",
          "Renovou",
          "Cancelou",
          "Cancelou",
          "Renovou",
          "Cancelou",
          "Renovou",
          "Cancelou",
          "Renovou",
          "Cancelou",
          "Renovou",
          "Cancelou",
          "Renovou",
          "Renovou",
          "Renovou",
          "Cancelou",
          "Cancelou",
          "Renovou",
          "Renovou",
          "Cancelou",
          "Renovou"
         ],
         "xaxis": "x",
         "yaxis": "y"
        },
        {
         "alignmentgroup": "True",
         "bingroup": "x",
         "hovertemplate": "Avaliação_Suporte=5<br>Cancelou=%{x}<br>count=%{y}<extra></extra>",
         "legendgroup": "5",
         "marker": {
          "color": "#ab63fa",
          "pattern": {
           "shape": ""
          }
         },
         "name": "5",
         "offsetgroup": "5",
         "orientation": "v",
         "showlegend": true,
         "texttemplate": "%{value}",
         "type": "histogram",
         "x": [
          "Renovou",
          "Cancelou",
          "Renovou",
          "Cancelou",
          "Cancelou",
          "Cancelou",
          "Renovou",
          "Renovou",
          "Renovou",
          "Renovou",
          "Cancelou",
          "Renovou",
          "Cancelou",
          "Renovou",
          "Renovou",
          "Renovou",
          "Renovou",
          "Renovou",
          "Renovou",
          "Renovou",
          "Renovou",
          "Renovou",
          "Renovou",
          "Renovou",
          "Renovou",
          "Renovou",
          "Renovou",
          "Renovou",
          "Cancelou",
          "Cancelou",
          "Renovou",
          "Cancelou",
          "Cancelou",
          "Renovou",
          "Renovou",
          "Cancelou",
          "Renovou",
          "Renovou",
          "Renovou",
          "Renovou",
          "Cancelou",
          "Renovou",
          "Renovou",
          "Cancelou",
          "Renovou",
          "Cancelou",
          "Renovou",
          "Renovou",
          "Renovou",
          "Renovou",
          "Renovou",
          "Renovou",
          "Renovou",
          "Cancelou",
          "Cancelou",
          "Renovou",
          "Cancelou",
          "Renovou",
          "Renovou",
          "Renovou",
          "Renovou",
          "Renovou",
          "Renovou",
          "Renovou",
          "Cancelou",
          "Renovou",
          "Renovou",
          "Renovou",
          "Renovou",
          "Renovou",
          "Renovou",
          "Renovou",
          "Renovou",
          "Renovou",
          "Renovou",
          "Renovou",
          "Renovou",
          "Renovou",
          "Renovou",
          "Renovou",
          "Renovou",
          "Renovou",
          "Cancelou",
          "Renovou",
          "Renovou",
          "Renovou",
          "Renovou",
          "Renovou",
          "Renovou",
          "Renovou",
          "Cancelou",
          "Renovou"
         ],
         "xaxis": "x",
         "yaxis": "y"
        },
        {
         "alignmentgroup": "True",
         "bingroup": "x",
         "hovertemplate": "Avaliação_Suporte=4<br>Cancelou=%{x}<br>count=%{y}<extra></extra>",
         "legendgroup": "4",
         "marker": {
          "color": "#FFA15A",
          "pattern": {
           "shape": ""
          }
         },
         "name": "4",
         "offsetgroup": "4",
         "orientation": "v",
         "showlegend": true,
         "texttemplate": "%{value}",
         "type": "histogram",
         "x": [
          "Renovou",
          "Renovou",
          "Renovou",
          "Renovou",
          "Renovou",
          "Cancelou",
          "Renovou",
          "Renovou",
          "Renovou",
          "Renovou",
          "Cancelou",
          "Cancelou",
          "Renovou",
          "Renovou",
          "Renovou",
          "Renovou",
          "Renovou",
          "Cancelou",
          "Cancelou",
          "Renovou",
          "Renovou",
          "Renovou",
          "Cancelou",
          "Renovou",
          "Cancelou",
          "Cancelou",
          "Cancelou",
          "Renovou",
          "Renovou",
          "Renovou",
          "Renovou",
          "Renovou",
          "Cancelou",
          "Renovou",
          "Renovou",
          "Renovou",
          "Renovou",
          "Renovou",
          "Cancelou",
          "Renovou",
          "Renovou",
          "Renovou",
          "Cancelou",
          "Renovou",
          "Cancelou",
          "Renovou",
          "Renovou",
          "Renovou",
          "Cancelou",
          "Cancelou",
          "Renovou",
          "Cancelou",
          "Renovou",
          "Renovou",
          "Renovou",
          "Cancelou",
          "Cancelou",
          "Renovou",
          "Cancelou",
          "Renovou",
          "Renovou",
          "Renovou",
          "Renovou",
          "Renovou",
          "Cancelou",
          "Renovou",
          "Renovou",
          "Renovou",
          "Renovou",
          "Renovou",
          "Renovou",
          "Renovou",
          "Renovou",
          "Renovou",
          "Renovou",
          "Renovou",
          "Cancelou",
          "Renovou",
          "Renovou",
          "Renovou",
          "Renovou",
          "Renovou",
          "Cancelou",
          "Renovou",
          "Renovou",
          "Renovou",
          "Cancelou",
          "Cancelou",
          "Renovou",
          "Cancelou",
          "Renovou",
          "Renovou",
          "Renovou",
          "Renovou",
          "Renovou",
          "Renovou",
          "Cancelou",
          "Cancelou",
          "Cancelou",
          "Renovou",
          "Renovou",
          "Renovou",
          "Renovou",
          "Renovou",
          "Renovou",
          "Renovou",
          "Renovou",
          "Renovou",
          "Cancelou",
          "Renovou"
         ],
         "xaxis": "x",
         "yaxis": "y"
        }
       ],
       "layout": {
        "barmode": "relative",
        "legend": {
         "title": {
          "text": "Avaliação_Suporte"
         },
         "tracegroupgap": 0
        },
        "margin": {
         "t": 60
        },
        "template": {
         "data": {
          "bar": [
           {
            "error_x": {
             "color": "#2a3f5f"
            },
            "error_y": {
             "color": "#2a3f5f"
            },
            "marker": {
             "line": {
              "color": "#E5ECF6",
              "width": 0.5
             },
             "pattern": {
              "fillmode": "overlay",
              "size": 10,
              "solidity": 0.2
             }
            },
            "type": "bar"
           }
          ],
          "barpolar": [
           {
            "marker": {
             "line": {
              "color": "#E5ECF6",
              "width": 0.5
             },
             "pattern": {
              "fillmode": "overlay",
              "size": 10,
              "solidity": 0.2
             }
            },
            "type": "barpolar"
           }
          ],
          "carpet": [
           {
            "aaxis": {
             "endlinecolor": "#2a3f5f",
             "gridcolor": "white",
             "linecolor": "white",
             "minorgridcolor": "white",
             "startlinecolor": "#2a3f5f"
            },
            "baxis": {
             "endlinecolor": "#2a3f5f",
             "gridcolor": "white",
             "linecolor": "white",
             "minorgridcolor": "white",
             "startlinecolor": "#2a3f5f"
            },
            "type": "carpet"
           }
          ],
          "choropleth": [
           {
            "colorbar": {
             "outlinewidth": 0,
             "ticks": ""
            },
            "type": "choropleth"
           }
          ],
          "contour": [
           {
            "colorbar": {
             "outlinewidth": 0,
             "ticks": ""
            },
            "colorscale": [
             [
              0,
              "#0d0887"
             ],
             [
              0.1111111111111111,
              "#46039f"
             ],
             [
              0.2222222222222222,
              "#7201a8"
             ],
             [
              0.3333333333333333,
              "#9c179e"
             ],
             [
              0.4444444444444444,
              "#bd3786"
             ],
             [
              0.5555555555555556,
              "#d8576b"
             ],
             [
              0.6666666666666666,
              "#ed7953"
             ],
             [
              0.7777777777777778,
              "#fb9f3a"
             ],
             [
              0.8888888888888888,
              "#fdca26"
             ],
             [
              1,
              "#f0f921"
             ]
            ],
            "type": "contour"
           }
          ],
          "contourcarpet": [
           {
            "colorbar": {
             "outlinewidth": 0,
             "ticks": ""
            },
            "type": "contourcarpet"
           }
          ],
          "heatmap": [
           {
            "colorbar": {
             "outlinewidth": 0,
             "ticks": ""
            },
            "colorscale": [
             [
              0,
              "#0d0887"
             ],
             [
              0.1111111111111111,
              "#46039f"
             ],
             [
              0.2222222222222222,
              "#7201a8"
             ],
             [
              0.3333333333333333,
              "#9c179e"
             ],
             [
              0.4444444444444444,
              "#bd3786"
             ],
             [
              0.5555555555555556,
              "#d8576b"
             ],
             [
              0.6666666666666666,
              "#ed7953"
             ],
             [
              0.7777777777777778,
              "#fb9f3a"
             ],
             [
              0.8888888888888888,
              "#fdca26"
             ],
             [
              1,
              "#f0f921"
             ]
            ],
            "type": "heatmap"
           }
          ],
          "heatmapgl": [
           {
            "colorbar": {
             "outlinewidth": 0,
             "ticks": ""
            },
            "colorscale": [
             [
              0,
              "#0d0887"
             ],
             [
              0.1111111111111111,
              "#46039f"
             ],
             [
              0.2222222222222222,
              "#7201a8"
             ],
             [
              0.3333333333333333,
              "#9c179e"
             ],
             [
              0.4444444444444444,
              "#bd3786"
             ],
             [
              0.5555555555555556,
              "#d8576b"
             ],
             [
              0.6666666666666666,
              "#ed7953"
             ],
             [
              0.7777777777777778,
              "#fb9f3a"
             ],
             [
              0.8888888888888888,
              "#fdca26"
             ],
             [
              1,
              "#f0f921"
             ]
            ],
            "type": "heatmapgl"
           }
          ],
          "histogram": [
           {
            "marker": {
             "pattern": {
              "fillmode": "overlay",
              "size": 10,
              "solidity": 0.2
             }
            },
            "type": "histogram"
           }
          ],
          "histogram2d": [
           {
            "colorbar": {
             "outlinewidth": 0,
             "ticks": ""
            },
            "colorscale": [
             [
              0,
              "#0d0887"
             ],
             [
              0.1111111111111111,
              "#46039f"
             ],
             [
              0.2222222222222222,
              "#7201a8"
             ],
             [
              0.3333333333333333,
              "#9c179e"
             ],
             [
              0.4444444444444444,
              "#bd3786"
             ],
             [
              0.5555555555555556,
              "#d8576b"
             ],
             [
              0.6666666666666666,
              "#ed7953"
             ],
             [
              0.7777777777777778,
              "#fb9f3a"
             ],
             [
              0.8888888888888888,
              "#fdca26"
             ],
             [
              1,
              "#f0f921"
             ]
            ],
            "type": "histogram2d"
           }
          ],
          "histogram2dcontour": [
           {
            "colorbar": {
             "outlinewidth": 0,
             "ticks": ""
            },
            "colorscale": [
             [
              0,
              "#0d0887"
             ],
             [
              0.1111111111111111,
              "#46039f"
             ],
             [
              0.2222222222222222,
              "#7201a8"
             ],
             [
              0.3333333333333333,
              "#9c179e"
             ],
             [
              0.4444444444444444,
              "#bd3786"
             ],
             [
              0.5555555555555556,
              "#d8576b"
             ],
             [
              0.6666666666666666,
              "#ed7953"
             ],
             [
              0.7777777777777778,
              "#fb9f3a"
             ],
             [
              0.8888888888888888,
              "#fdca26"
             ],
             [
              1,
              "#f0f921"
             ]
            ],
            "type": "histogram2dcontour"
           }
          ],
          "mesh3d": [
           {
            "colorbar": {
             "outlinewidth": 0,
             "ticks": ""
            },
            "type": "mesh3d"
           }
          ],
          "parcoords": [
           {
            "line": {
             "colorbar": {
              "outlinewidth": 0,
              "ticks": ""
             }
            },
            "type": "parcoords"
           }
          ],
          "pie": [
           {
            "automargin": true,
            "type": "pie"
           }
          ],
          "scatter": [
           {
            "fillpattern": {
             "fillmode": "overlay",
             "size": 10,
             "solidity": 0.2
            },
            "type": "scatter"
           }
          ],
          "scatter3d": [
           {
            "line": {
             "colorbar": {
              "outlinewidth": 0,
              "ticks": ""
             }
            },
            "marker": {
             "colorbar": {
              "outlinewidth": 0,
              "ticks": ""
             }
            },
            "type": "scatter3d"
           }
          ],
          "scattercarpet": [
           {
            "marker": {
             "colorbar": {
              "outlinewidth": 0,
              "ticks": ""
             }
            },
            "type": "scattercarpet"
           }
          ],
          "scattergeo": [
           {
            "marker": {
             "colorbar": {
              "outlinewidth": 0,
              "ticks": ""
             }
            },
            "type": "scattergeo"
           }
          ],
          "scattergl": [
           {
            "marker": {
             "colorbar": {
              "outlinewidth": 0,
              "ticks": ""
             }
            },
            "type": "scattergl"
           }
          ],
          "scattermapbox": [
           {
            "marker": {
             "colorbar": {
              "outlinewidth": 0,
              "ticks": ""
             }
            },
            "type": "scattermapbox"
           }
          ],
          "scatterpolar": [
           {
            "marker": {
             "colorbar": {
              "outlinewidth": 0,
              "ticks": ""
             }
            },
            "type": "scatterpolar"
           }
          ],
          "scatterpolargl": [
           {
            "marker": {
             "colorbar": {
              "outlinewidth": 0,
              "ticks": ""
             }
            },
            "type": "scatterpolargl"
           }
          ],
          "scatterternary": [
           {
            "marker": {
             "colorbar": {
              "outlinewidth": 0,
              "ticks": ""
             }
            },
            "type": "scatterternary"
           }
          ],
          "surface": [
           {
            "colorbar": {
             "outlinewidth": 0,
             "ticks": ""
            },
            "colorscale": [
             [
              0,
              "#0d0887"
             ],
             [
              0.1111111111111111,
              "#46039f"
             ],
             [
              0.2222222222222222,
              "#7201a8"
             ],
             [
              0.3333333333333333,
              "#9c179e"
             ],
             [
              0.4444444444444444,
              "#bd3786"
             ],
             [
              0.5555555555555556,
              "#d8576b"
             ],
             [
              0.6666666666666666,
              "#ed7953"
             ],
             [
              0.7777777777777778,
              "#fb9f3a"
             ],
             [
              0.8888888888888888,
              "#fdca26"
             ],
             [
              1,
              "#f0f921"
             ]
            ],
            "type": "surface"
           }
          ],
          "table": [
           {
            "cells": {
             "fill": {
              "color": "#EBF0F8"
             },
             "line": {
              "color": "white"
             }
            },
            "header": {
             "fill": {
              "color": "#C8D4E3"
             },
             "line": {
              "color": "white"
             }
            },
            "type": "table"
           }
          ]
         },
         "layout": {
          "annotationdefaults": {
           "arrowcolor": "#2a3f5f",
           "arrowhead": 0,
           "arrowwidth": 1
          },
          "autotypenumbers": "strict",
          "coloraxis": {
           "colorbar": {
            "outlinewidth": 0,
            "ticks": ""
           }
          },
          "colorscale": {
           "diverging": [
            [
             0,
             "#8e0152"
            ],
            [
             0.1,
             "#c51b7d"
            ],
            [
             0.2,
             "#de77ae"
            ],
            [
             0.3,
             "#f1b6da"
            ],
            [
             0.4,
             "#fde0ef"
            ],
            [
             0.5,
             "#f7f7f7"
            ],
            [
             0.6,
             "#e6f5d0"
            ],
            [
             0.7,
             "#b8e186"
            ],
            [
             0.8,
             "#7fbc41"
            ],
            [
             0.9,
             "#4d9221"
            ],
            [
             1,
             "#276419"
            ]
           ],
           "sequential": [
            [
             0,
             "#0d0887"
            ],
            [
             0.1111111111111111,
             "#46039f"
            ],
            [
             0.2222222222222222,
             "#7201a8"
            ],
            [
             0.3333333333333333,
             "#9c179e"
            ],
            [
             0.4444444444444444,
             "#bd3786"
            ],
            [
             0.5555555555555556,
             "#d8576b"
            ],
            [
             0.6666666666666666,
             "#ed7953"
            ],
            [
             0.7777777777777778,
             "#fb9f3a"
            ],
            [
             0.8888888888888888,
             "#fdca26"
            ],
            [
             1,
             "#f0f921"
            ]
           ],
           "sequentialminus": [
            [
             0,
             "#0d0887"
            ],
            [
             0.1111111111111111,
             "#46039f"
            ],
            [
             0.2222222222222222,
             "#7201a8"
            ],
            [
             0.3333333333333333,
             "#9c179e"
            ],
            [
             0.4444444444444444,
             "#bd3786"
            ],
            [
             0.5555555555555556,
             "#d8576b"
            ],
            [
             0.6666666666666666,
             "#ed7953"
            ],
            [
             0.7777777777777778,
             "#fb9f3a"
            ],
            [
             0.8888888888888888,
             "#fdca26"
            ],
            [
             1,
             "#f0f921"
            ]
           ]
          },
          "colorway": [
           "#636efa",
           "#EF553B",
           "#00cc96",
           "#ab63fa",
           "#FFA15A",
           "#19d3f3",
           "#FF6692",
           "#B6E880",
           "#FF97FF",
           "#FECB52"
          ],
          "font": {
           "color": "#2a3f5f"
          },
          "geo": {
           "bgcolor": "white",
           "lakecolor": "white",
           "landcolor": "#E5ECF6",
           "showlakes": true,
           "showland": true,
           "subunitcolor": "white"
          },
          "hoverlabel": {
           "align": "left"
          },
          "hovermode": "closest",
          "mapbox": {
           "style": "light"
          },
          "paper_bgcolor": "white",
          "plot_bgcolor": "#E5ECF6",
          "polar": {
           "angularaxis": {
            "gridcolor": "white",
            "linecolor": "white",
            "ticks": ""
           },
           "bgcolor": "#E5ECF6",
           "radialaxis": {
            "gridcolor": "white",
            "linecolor": "white",
            "ticks": ""
           }
          },
          "scene": {
           "xaxis": {
            "backgroundcolor": "#E5ECF6",
            "gridcolor": "white",
            "gridwidth": 2,
            "linecolor": "white",
            "showbackground": true,
            "ticks": "",
            "zerolinecolor": "white"
           },
           "yaxis": {
            "backgroundcolor": "#E5ECF6",
            "gridcolor": "white",
            "gridwidth": 2,
            "linecolor": "white",
            "showbackground": true,
            "ticks": "",
            "zerolinecolor": "white"
           },
           "zaxis": {
            "backgroundcolor": "#E5ECF6",
            "gridcolor": "white",
            "gridwidth": 2,
            "linecolor": "white",
            "showbackground": true,
            "ticks": "",
            "zerolinecolor": "white"
           }
          },
          "shapedefaults": {
           "line": {
            "color": "#2a3f5f"
           }
          },
          "ternary": {
           "aaxis": {
            "gridcolor": "white",
            "linecolor": "white",
            "ticks": ""
           },
           "baxis": {
            "gridcolor": "white",
            "linecolor": "white",
            "ticks": ""
           },
           "bgcolor": "#E5ECF6",
           "caxis": {
            "gridcolor": "white",
            "linecolor": "white",
            "ticks": ""
           }
          },
          "title": {
           "x": 0.05
          },
          "xaxis": {
           "automargin": true,
           "gridcolor": "white",
           "linecolor": "white",
           "ticks": "",
           "title": {
            "standoff": 15
           },
           "zerolinecolor": "white",
           "zerolinewidth": 2
          },
          "yaxis": {
           "automargin": true,
           "gridcolor": "white",
           "linecolor": "white",
           "ticks": "",
           "title": {
            "standoff": 15
           },
           "zerolinecolor": "white",
           "zerolinewidth": 2
          }
         }
        },
        "xaxis": {
         "anchor": "y",
         "domain": [
          0,
          1
         ],
         "title": {
          "text": "Cancelou"
         }
        },
        "yaxis": {
         "anchor": "x",
         "domain": [
          0,
          1
         ],
         "title": {
          "text": "count"
         }
        }
       }
      }
     },
     "metadata": {},
     "output_type": "display_data"
    },
    {
     "data": {
      "application/vnd.plotly.v1+json": {
       "config": {
        "plotlyServerURL": "https://plot.ly"
       },
       "data": [
        {
         "alignmentgroup": "True",
         "bingroup": "x",
         "hovertemplate": "Forma de Pagamento=PIX<br>Cancelou=%{x}<br>count=%{y}<extra></extra>",
         "legendgroup": "PIX",
         "marker": {
          "color": "#636efa",
          "pattern": {
           "shape": ""
          }
         },
         "name": "PIX",
         "offsetgroup": "PIX",
         "orientation": "v",
         "showlegend": true,
         "texttemplate": "%{value}",
         "type": "histogram",
         "x": [
          "Cancelou",
          "Cancelou",
          "Cancelou",
          "Cancelou",
          "Renovou",
          "Renovou",
          "Renovou",
          "Renovou",
          "Cancelou",
          "Renovou",
          "Renovou",
          "Renovou",
          "Cancelou",
          "Cancelou",
          "Cancelou",
          "Cancelou",
          "Renovou",
          "Cancelou",
          "Cancelou",
          "Renovou",
          "Renovou",
          "Renovou",
          "Cancelou",
          "Cancelou",
          "Cancelou",
          "Renovou",
          "Renovou",
          "Renovou",
          "Renovou",
          "Cancelou",
          "Renovou",
          "Renovou",
          "Renovou",
          "Renovou",
          "Renovou",
          "Cancelou",
          "Renovou",
          "Cancelou",
          "Cancelou",
          "Cancelou",
          "Cancelou",
          "Renovou",
          "Renovou",
          "Renovou",
          "Renovou",
          "Renovou",
          "Renovou",
          "Cancelou",
          "Cancelou",
          "Renovou",
          "Cancelou",
          "Cancelou",
          "Renovou",
          "Renovou",
          "Renovou",
          "Cancelou",
          "Renovou",
          "Cancelou",
          "Cancelou",
          "Renovou",
          "Renovou",
          "Cancelou",
          "Renovou",
          "Renovou",
          "Cancelou",
          "Renovou",
          "Cancelou",
          "Renovou",
          "Cancelou",
          "Renovou",
          "Renovou",
          "Cancelou",
          "Renovou",
          "Cancelou",
          "Renovou",
          "Renovou",
          "Renovou",
          "Cancelou",
          "Cancelou",
          "Cancelou",
          "Renovou",
          "Renovou",
          "Cancelou",
          "Renovou",
          "Cancelou",
          "Renovou",
          "Renovou",
          "Cancelou",
          "Cancelou",
          "Renovou",
          "Renovou",
          "Renovou",
          "Cancelou",
          "Cancelou",
          "Renovou",
          "Renovou",
          "Renovou",
          "Cancelou",
          "Cancelou",
          "Renovou",
          "Renovou",
          "Cancelou",
          "Renovou",
          "Renovou",
          "Cancelou",
          "Renovou",
          "Renovou",
          "Renovou",
          "Cancelou",
          "Cancelou",
          "Renovou",
          "Renovou",
          "Cancelou",
          "Cancelou",
          "Renovou",
          "Renovou",
          "Renovou",
          "Renovou",
          "Cancelou",
          "Cancelou",
          "Renovou",
          "Renovou",
          "Renovou",
          "Renovou",
          "Cancelou",
          "Renovou",
          "Renovou",
          "Renovou",
          "Cancelou",
          "Renovou",
          "Renovou",
          "Renovou",
          "Renovou",
          "Cancelou",
          "Cancelou",
          "Cancelou",
          "Cancelou",
          "Renovou",
          "Renovou",
          "Cancelou",
          "Renovou",
          "Renovou",
          "Cancelou",
          "Renovou",
          "Renovou",
          "Cancelou",
          "Renovou",
          "Renovou",
          "Renovou",
          "Renovou",
          "Cancelou",
          "Renovou",
          "Cancelou",
          "Renovou",
          "Renovou",
          "Cancelou",
          "Renovou",
          "Renovou",
          "Renovou",
          "Renovou",
          "Cancelou",
          "Renovou",
          "Renovou",
          "Cancelou"
         ],
         "xaxis": "x",
         "yaxis": "y"
        },
        {
         "alignmentgroup": "True",
         "bingroup": "x",
         "hovertemplate": "Forma de Pagamento=Cartão<br>Cancelou=%{x}<br>count=%{y}<extra></extra>",
         "legendgroup": "Cartão",
         "marker": {
          "color": "#EF553B",
          "pattern": {
           "shape": ""
          }
         },
         "name": "Cartão",
         "offsetgroup": "Cartão",
         "orientation": "v",
         "showlegend": true,
         "texttemplate": "%{value}",
         "type": "histogram",
         "x": [
          "Renovou",
          "Renovou",
          "Renovou",
          "Renovou",
          "Renovou",
          "Renovou",
          "Renovou",
          "Cancelou",
          "Renovou",
          "Renovou",
          "Renovou",
          "Cancelou",
          "Renovou",
          "Cancelou",
          "Renovou",
          "Renovou",
          "Renovou",
          "Renovou",
          "Renovou",
          "Renovou",
          "Renovou",
          "Renovou",
          "Cancelou",
          "Renovou",
          "Cancelou",
          "Renovou",
          "Renovou",
          "Renovou",
          "Renovou",
          "Renovou",
          "Renovou",
          "Renovou",
          "Renovou",
          "Renovou",
          "Renovou",
          "Renovou",
          "Renovou",
          "Renovou",
          "Cancelou",
          "Renovou",
          "Cancelou",
          "Renovou",
          "Renovou",
          "Renovou",
          "Renovou",
          "Renovou",
          "Renovou",
          "Renovou",
          "Cancelou",
          "Renovou",
          "Renovou",
          "Renovou",
          "Renovou",
          "Renovou",
          "Renovou",
          "Cancelou",
          "Renovou",
          "Renovou",
          "Cancelou",
          "Renovou",
          "Renovou",
          "Renovou",
          "Cancelou",
          "Renovou",
          "Cancelou",
          "Renovou",
          "Cancelou",
          "Renovou",
          "Renovou",
          "Renovou",
          "Renovou",
          "Renovou",
          "Cancelou",
          "Renovou",
          "Renovou",
          "Renovou",
          "Renovou",
          "Cancelou",
          "Renovou",
          "Renovou",
          "Renovou",
          "Cancelou",
          "Renovou",
          "Renovou",
          "Renovou",
          "Renovou",
          "Renovou",
          "Renovou",
          "Cancelou",
          "Renovou",
          "Renovou",
          "Renovou",
          "Cancelou",
          "Renovou",
          "Cancelou",
          "Renovou",
          "Renovou",
          "Renovou",
          "Renovou",
          "Renovou",
          "Cancelou",
          "Renovou",
          "Renovou",
          "Renovou",
          "Cancelou",
          "Renovou",
          "Renovou",
          "Renovou",
          "Renovou",
          "Renovou",
          "Cancelou",
          "Renovou",
          "Renovou",
          "Renovou",
          "Renovou",
          "Renovou",
          "Renovou",
          "Renovou",
          "Renovou",
          "Renovou",
          "Renovou",
          "Renovou",
          "Renovou",
          "Renovou",
          "Renovou",
          "Renovou",
          "Renovou",
          "Renovou",
          "Renovou",
          "Cancelou",
          "Cancelou",
          "Renovou",
          "Renovou",
          "Renovou",
          "Renovou",
          "Renovou",
          "Renovou",
          "Renovou",
          "Cancelou",
          "Renovou",
          "Renovou",
          "Cancelou",
          "Renovou",
          "Renovou",
          "Renovou",
          "Renovou",
          "Renovou",
          "Cancelou",
          "Renovou",
          "Renovou",
          "Renovou",
          "Renovou",
          "Renovou",
          "Renovou",
          "Renovou",
          "Renovou",
          "Renovou",
          "Cancelou"
         ],
         "xaxis": "x",
         "yaxis": "y"
        },
        {
         "alignmentgroup": "True",
         "bingroup": "x",
         "hovertemplate": "Forma de Pagamento=Boleto<br>Cancelou=%{x}<br>count=%{y}<extra></extra>",
         "legendgroup": "Boleto",
         "marker": {
          "color": "#00cc96",
          "pattern": {
           "shape": ""
          }
         },
         "name": "Boleto",
         "offsetgroup": "Boleto",
         "orientation": "v",
         "showlegend": true,
         "texttemplate": "%{value}",
         "type": "histogram",
         "x": [
          "Cancelou",
          "Cancelou",
          "Renovou",
          "Renovou",
          "Cancelou",
          "Cancelou",
          "Cancelou",
          "Renovou",
          "Cancelou",
          "Cancelou",
          "Cancelou",
          "Cancelou",
          "Cancelou",
          "Cancelou",
          "Renovou",
          "Renovou",
          "Renovou",
          "Renovou",
          "Renovou",
          "Cancelou",
          "Renovou",
          "Renovou",
          "Renovou",
          "Cancelou",
          "Cancelou",
          "Cancelou",
          "Cancelou",
          "Cancelou",
          "Renovou",
          "Cancelou",
          "Renovou",
          "Renovou",
          "Cancelou",
          "Cancelou",
          "Renovou",
          "Renovou",
          "Cancelou",
          "Cancelou",
          "Cancelou",
          "Renovou",
          "Cancelou",
          "Cancelou",
          "Cancelou",
          "Renovou",
          "Renovou",
          "Cancelou",
          "Cancelou",
          "Renovou",
          "Cancelou",
          "Cancelou",
          "Renovou",
          "Cancelou",
          "Cancelou",
          "Renovou",
          "Renovou",
          "Renovou",
          "Renovou",
          "Renovou",
          "Cancelou",
          "Cancelou",
          "Renovou",
          "Cancelou",
          "Cancelou",
          "Renovou",
          "Cancelou",
          "Cancelou",
          "Renovou",
          "Cancelou",
          "Renovou",
          "Cancelou",
          "Renovou",
          "Renovou",
          "Cancelou",
          "Renovou",
          "Cancelou",
          "Cancelou",
          "Renovou",
          "Cancelou",
          "Cancelou",
          "Renovou",
          "Renovou",
          "Renovou",
          "Renovou",
          "Cancelou",
          "Renovou",
          "Cancelou",
          "Cancelou",
          "Renovou",
          "Renovou",
          "Renovou",
          "Cancelou",
          "Renovou",
          "Cancelou",
          "Renovou",
          "Renovou",
          "Renovou",
          "Renovou",
          "Renovou",
          "Cancelou",
          "Renovou",
          "Cancelou",
          "Renovou",
          "Cancelou",
          "Renovou",
          "Renovou",
          "Renovou",
          "Renovou",
          "Cancelou",
          "Renovou",
          "Cancelou",
          "Cancelou",
          "Cancelou",
          "Renovou",
          "Cancelou",
          "Renovou",
          "Cancelou",
          "Cancelou",
          "Cancelou",
          "Renovou",
          "Renovou",
          "Cancelou",
          "Renovou",
          "Cancelou",
          "Renovou",
          "Cancelou",
          "Renovou",
          "Renovou",
          "Renovou",
          "Cancelou",
          "Renovou",
          "Cancelou",
          "Renovou",
          "Renovou",
          "Cancelou",
          "Renovou",
          "Cancelou",
          "Cancelou",
          "Renovou",
          "Renovou",
          "Cancelou",
          "Renovou",
          "Cancelou",
          "Cancelou",
          "Cancelou",
          "Cancelou",
          "Renovou",
          "Cancelou",
          "Cancelou",
          "Renovou",
          "Renovou",
          "Renovou",
          "Cancelou",
          "Renovou",
          "Renovou",
          "Cancelou",
          "Cancelou",
          "Cancelou",
          "Renovou",
          "Renovou",
          "Cancelou",
          "Renovou",
          "Renovou",
          "Cancelou",
          "Renovou",
          "Renovou",
          "Renovou",
          "Renovou",
          "Cancelou",
          "Renovou",
          "Cancelou",
          "Renovou",
          "Cancelou",
          "Renovou",
          "Renovou",
          "Cancelou",
          "Renovou",
          "Cancelou",
          "Renovou"
         ],
         "xaxis": "x",
         "yaxis": "y"
        }
       ],
       "layout": {
        "barmode": "relative",
        "legend": {
         "title": {
          "text": "Forma de Pagamento"
         },
         "tracegroupgap": 0
        },
        "margin": {
         "t": 60
        },
        "template": {
         "data": {
          "bar": [
           {
            "error_x": {
             "color": "#2a3f5f"
            },
            "error_y": {
             "color": "#2a3f5f"
            },
            "marker": {
             "line": {
              "color": "#E5ECF6",
              "width": 0.5
             },
             "pattern": {
              "fillmode": "overlay",
              "size": 10,
              "solidity": 0.2
             }
            },
            "type": "bar"
           }
          ],
          "barpolar": [
           {
            "marker": {
             "line": {
              "color": "#E5ECF6",
              "width": 0.5
             },
             "pattern": {
              "fillmode": "overlay",
              "size": 10,
              "solidity": 0.2
             }
            },
            "type": "barpolar"
           }
          ],
          "carpet": [
           {
            "aaxis": {
             "endlinecolor": "#2a3f5f",
             "gridcolor": "white",
             "linecolor": "white",
             "minorgridcolor": "white",
             "startlinecolor": "#2a3f5f"
            },
            "baxis": {
             "endlinecolor": "#2a3f5f",
             "gridcolor": "white",
             "linecolor": "white",
             "minorgridcolor": "white",
             "startlinecolor": "#2a3f5f"
            },
            "type": "carpet"
           }
          ],
          "choropleth": [
           {
            "colorbar": {
             "outlinewidth": 0,
             "ticks": ""
            },
            "type": "choropleth"
           }
          ],
          "contour": [
           {
            "colorbar": {
             "outlinewidth": 0,
             "ticks": ""
            },
            "colorscale": [
             [
              0,
              "#0d0887"
             ],
             [
              0.1111111111111111,
              "#46039f"
             ],
             [
              0.2222222222222222,
              "#7201a8"
             ],
             [
              0.3333333333333333,
              "#9c179e"
             ],
             [
              0.4444444444444444,
              "#bd3786"
             ],
             [
              0.5555555555555556,
              "#d8576b"
             ],
             [
              0.6666666666666666,
              "#ed7953"
             ],
             [
              0.7777777777777778,
              "#fb9f3a"
             ],
             [
              0.8888888888888888,
              "#fdca26"
             ],
             [
              1,
              "#f0f921"
             ]
            ],
            "type": "contour"
           }
          ],
          "contourcarpet": [
           {
            "colorbar": {
             "outlinewidth": 0,
             "ticks": ""
            },
            "type": "contourcarpet"
           }
          ],
          "heatmap": [
           {
            "colorbar": {
             "outlinewidth": 0,
             "ticks": ""
            },
            "colorscale": [
             [
              0,
              "#0d0887"
             ],
             [
              0.1111111111111111,
              "#46039f"
             ],
             [
              0.2222222222222222,
              "#7201a8"
             ],
             [
              0.3333333333333333,
              "#9c179e"
             ],
             [
              0.4444444444444444,
              "#bd3786"
             ],
             [
              0.5555555555555556,
              "#d8576b"
             ],
             [
              0.6666666666666666,
              "#ed7953"
             ],
             [
              0.7777777777777778,
              "#fb9f3a"
             ],
             [
              0.8888888888888888,
              "#fdca26"
             ],
             [
              1,
              "#f0f921"
             ]
            ],
            "type": "heatmap"
           }
          ],
          "heatmapgl": [
           {
            "colorbar": {
             "outlinewidth": 0,
             "ticks": ""
            },
            "colorscale": [
             [
              0,
              "#0d0887"
             ],
             [
              0.1111111111111111,
              "#46039f"
             ],
             [
              0.2222222222222222,
              "#7201a8"
             ],
             [
              0.3333333333333333,
              "#9c179e"
             ],
             [
              0.4444444444444444,
              "#bd3786"
             ],
             [
              0.5555555555555556,
              "#d8576b"
             ],
             [
              0.6666666666666666,
              "#ed7953"
             ],
             [
              0.7777777777777778,
              "#fb9f3a"
             ],
             [
              0.8888888888888888,
              "#fdca26"
             ],
             [
              1,
              "#f0f921"
             ]
            ],
            "type": "heatmapgl"
           }
          ],
          "histogram": [
           {
            "marker": {
             "pattern": {
              "fillmode": "overlay",
              "size": 10,
              "solidity": 0.2
             }
            },
            "type": "histogram"
           }
          ],
          "histogram2d": [
           {
            "colorbar": {
             "outlinewidth": 0,
             "ticks": ""
            },
            "colorscale": [
             [
              0,
              "#0d0887"
             ],
             [
              0.1111111111111111,
              "#46039f"
             ],
             [
              0.2222222222222222,
              "#7201a8"
             ],
             [
              0.3333333333333333,
              "#9c179e"
             ],
             [
              0.4444444444444444,
              "#bd3786"
             ],
             [
              0.5555555555555556,
              "#d8576b"
             ],
             [
              0.6666666666666666,
              "#ed7953"
             ],
             [
              0.7777777777777778,
              "#fb9f3a"
             ],
             [
              0.8888888888888888,
              "#fdca26"
             ],
             [
              1,
              "#f0f921"
             ]
            ],
            "type": "histogram2d"
           }
          ],
          "histogram2dcontour": [
           {
            "colorbar": {
             "outlinewidth": 0,
             "ticks": ""
            },
            "colorscale": [
             [
              0,
              "#0d0887"
             ],
             [
              0.1111111111111111,
              "#46039f"
             ],
             [
              0.2222222222222222,
              "#7201a8"
             ],
             [
              0.3333333333333333,
              "#9c179e"
             ],
             [
              0.4444444444444444,
              "#bd3786"
             ],
             [
              0.5555555555555556,
              "#d8576b"
             ],
             [
              0.6666666666666666,
              "#ed7953"
             ],
             [
              0.7777777777777778,
              "#fb9f3a"
             ],
             [
              0.8888888888888888,
              "#fdca26"
             ],
             [
              1,
              "#f0f921"
             ]
            ],
            "type": "histogram2dcontour"
           }
          ],
          "mesh3d": [
           {
            "colorbar": {
             "outlinewidth": 0,
             "ticks": ""
            },
            "type": "mesh3d"
           }
          ],
          "parcoords": [
           {
            "line": {
             "colorbar": {
              "outlinewidth": 0,
              "ticks": ""
             }
            },
            "type": "parcoords"
           }
          ],
          "pie": [
           {
            "automargin": true,
            "type": "pie"
           }
          ],
          "scatter": [
           {
            "fillpattern": {
             "fillmode": "overlay",
             "size": 10,
             "solidity": 0.2
            },
            "type": "scatter"
           }
          ],
          "scatter3d": [
           {
            "line": {
             "colorbar": {
              "outlinewidth": 0,
              "ticks": ""
             }
            },
            "marker": {
             "colorbar": {
              "outlinewidth": 0,
              "ticks": ""
             }
            },
            "type": "scatter3d"
           }
          ],
          "scattercarpet": [
           {
            "marker": {
             "colorbar": {
              "outlinewidth": 0,
              "ticks": ""
             }
            },
            "type": "scattercarpet"
           }
          ],
          "scattergeo": [
           {
            "marker": {
             "colorbar": {
              "outlinewidth": 0,
              "ticks": ""
             }
            },
            "type": "scattergeo"
           }
          ],
          "scattergl": [
           {
            "marker": {
             "colorbar": {
              "outlinewidth": 0,
              "ticks": ""
             }
            },
            "type": "scattergl"
           }
          ],
          "scattermapbox": [
           {
            "marker": {
             "colorbar": {
              "outlinewidth": 0,
              "ticks": ""
             }
            },
            "type": "scattermapbox"
           }
          ],
          "scatterpolar": [
           {
            "marker": {
             "colorbar": {
              "outlinewidth": 0,
              "ticks": ""
             }
            },
            "type": "scatterpolar"
           }
          ],
          "scatterpolargl": [
           {
            "marker": {
             "colorbar": {
              "outlinewidth": 0,
              "ticks": ""
             }
            },
            "type": "scatterpolargl"
           }
          ],
          "scatterternary": [
           {
            "marker": {
             "colorbar": {
              "outlinewidth": 0,
              "ticks": ""
             }
            },
            "type": "scatterternary"
           }
          ],
          "surface": [
           {
            "colorbar": {
             "outlinewidth": 0,
             "ticks": ""
            },
            "colorscale": [
             [
              0,
              "#0d0887"
             ],
             [
              0.1111111111111111,
              "#46039f"
             ],
             [
              0.2222222222222222,
              "#7201a8"
             ],
             [
              0.3333333333333333,
              "#9c179e"
             ],
             [
              0.4444444444444444,
              "#bd3786"
             ],
             [
              0.5555555555555556,
              "#d8576b"
             ],
             [
              0.6666666666666666,
              "#ed7953"
             ],
             [
              0.7777777777777778,
              "#fb9f3a"
             ],
             [
              0.8888888888888888,
              "#fdca26"
             ],
             [
              1,
              "#f0f921"
             ]
            ],
            "type": "surface"
           }
          ],
          "table": [
           {
            "cells": {
             "fill": {
              "color": "#EBF0F8"
             },
             "line": {
              "color": "white"
             }
            },
            "header": {
             "fill": {
              "color": "#C8D4E3"
             },
             "line": {
              "color": "white"
             }
            },
            "type": "table"
           }
          ]
         },
         "layout": {
          "annotationdefaults": {
           "arrowcolor": "#2a3f5f",
           "arrowhead": 0,
           "arrowwidth": 1
          },
          "autotypenumbers": "strict",
          "coloraxis": {
           "colorbar": {
            "outlinewidth": 0,
            "ticks": ""
           }
          },
          "colorscale": {
           "diverging": [
            [
             0,
             "#8e0152"
            ],
            [
             0.1,
             "#c51b7d"
            ],
            [
             0.2,
             "#de77ae"
            ],
            [
             0.3,
             "#f1b6da"
            ],
            [
             0.4,
             "#fde0ef"
            ],
            [
             0.5,
             "#f7f7f7"
            ],
            [
             0.6,
             "#e6f5d0"
            ],
            [
             0.7,
             "#b8e186"
            ],
            [
             0.8,
             "#7fbc41"
            ],
            [
             0.9,
             "#4d9221"
            ],
            [
             1,
             "#276419"
            ]
           ],
           "sequential": [
            [
             0,
             "#0d0887"
            ],
            [
             0.1111111111111111,
             "#46039f"
            ],
            [
             0.2222222222222222,
             "#7201a8"
            ],
            [
             0.3333333333333333,
             "#9c179e"
            ],
            [
             0.4444444444444444,
             "#bd3786"
            ],
            [
             0.5555555555555556,
             "#d8576b"
            ],
            [
             0.6666666666666666,
             "#ed7953"
            ],
            [
             0.7777777777777778,
             "#fb9f3a"
            ],
            [
             0.8888888888888888,
             "#fdca26"
            ],
            [
             1,
             "#f0f921"
            ]
           ],
           "sequentialminus": [
            [
             0,
             "#0d0887"
            ],
            [
             0.1111111111111111,
             "#46039f"
            ],
            [
             0.2222222222222222,
             "#7201a8"
            ],
            [
             0.3333333333333333,
             "#9c179e"
            ],
            [
             0.4444444444444444,
             "#bd3786"
            ],
            [
             0.5555555555555556,
             "#d8576b"
            ],
            [
             0.6666666666666666,
             "#ed7953"
            ],
            [
             0.7777777777777778,
             "#fb9f3a"
            ],
            [
             0.8888888888888888,
             "#fdca26"
            ],
            [
             1,
             "#f0f921"
            ]
           ]
          },
          "colorway": [
           "#636efa",
           "#EF553B",
           "#00cc96",
           "#ab63fa",
           "#FFA15A",
           "#19d3f3",
           "#FF6692",
           "#B6E880",
           "#FF97FF",
           "#FECB52"
          ],
          "font": {
           "color": "#2a3f5f"
          },
          "geo": {
           "bgcolor": "white",
           "lakecolor": "white",
           "landcolor": "#E5ECF6",
           "showlakes": true,
           "showland": true,
           "subunitcolor": "white"
          },
          "hoverlabel": {
           "align": "left"
          },
          "hovermode": "closest",
          "mapbox": {
           "style": "light"
          },
          "paper_bgcolor": "white",
          "plot_bgcolor": "#E5ECF6",
          "polar": {
           "angularaxis": {
            "gridcolor": "white",
            "linecolor": "white",
            "ticks": ""
           },
           "bgcolor": "#E5ECF6",
           "radialaxis": {
            "gridcolor": "white",
            "linecolor": "white",
            "ticks": ""
           }
          },
          "scene": {
           "xaxis": {
            "backgroundcolor": "#E5ECF6",
            "gridcolor": "white",
            "gridwidth": 2,
            "linecolor": "white",
            "showbackground": true,
            "ticks": "",
            "zerolinecolor": "white"
           },
           "yaxis": {
            "backgroundcolor": "#E5ECF6",
            "gridcolor": "white",
            "gridwidth": 2,
            "linecolor": "white",
            "showbackground": true,
            "ticks": "",
            "zerolinecolor": "white"
           },
           "zaxis": {
            "backgroundcolor": "#E5ECF6",
            "gridcolor": "white",
            "gridwidth": 2,
            "linecolor": "white",
            "showbackground": true,
            "ticks": "",
            "zerolinecolor": "white"
           }
          },
          "shapedefaults": {
           "line": {
            "color": "#2a3f5f"
           }
          },
          "ternary": {
           "aaxis": {
            "gridcolor": "white",
            "linecolor": "white",
            "ticks": ""
           },
           "baxis": {
            "gridcolor": "white",
            "linecolor": "white",
            "ticks": ""
           },
           "bgcolor": "#E5ECF6",
           "caxis": {
            "gridcolor": "white",
            "linecolor": "white",
            "ticks": ""
           }
          },
          "title": {
           "x": 0.05
          },
          "xaxis": {
           "automargin": true,
           "gridcolor": "white",
           "linecolor": "white",
           "ticks": "",
           "title": {
            "standoff": 15
           },
           "zerolinecolor": "white",
           "zerolinewidth": 2
          },
          "yaxis": {
           "automargin": true,
           "gridcolor": "white",
           "linecolor": "white",
           "ticks": "",
           "title": {
            "standoff": 15
           },
           "zerolinecolor": "white",
           "zerolinewidth": 2
          }
         }
        },
        "xaxis": {
         "anchor": "y",
         "domain": [
          0,
          1
         ],
         "title": {
          "text": "Cancelou"
         }
        },
        "yaxis": {
         "anchor": "x",
         "domain": [
          0,
          1
         ],
         "title": {
          "text": "count"
         }
        }
       }
      }
     },
     "metadata": {},
     "output_type": "display_data"
    },
    {
     "data": {
      "application/vnd.plotly.v1+json": {
       "config": {
        "plotlyServerURL": "https://plot.ly"
       },
       "data": [
        {
         "alignmentgroup": "True",
         "bingroup": "x",
         "hovertemplate": "Interacoes_Suporte=10<br>Cancelou=%{x}<br>count=%{y}<extra></extra>",
         "legendgroup": "10",
         "marker": {
          "color": "#636efa",
          "pattern": {
           "shape": ""
          }
         },
         "name": "10",
         "offsetgroup": "10",
         "orientation": "v",
         "showlegend": true,
         "texttemplate": "%{value}",
         "type": "histogram",
         "x": [
          "Cancelou",
          "Renovou",
          "Cancelou",
          "Renovou",
          "Renovou",
          "Cancelou",
          "Cancelou",
          "Cancelou",
          "Renovou",
          "Cancelou",
          "Renovou",
          "Renovou",
          "Renovou",
          "Cancelou",
          "Renovou",
          "Cancelou",
          "Renovou",
          "Renovou",
          "Renovou",
          "Renovou",
          "Renovou",
          "Renovou",
          "Cancelou",
          "Renovou"
         ],
         "xaxis": "x",
         "yaxis": "y"
        },
        {
         "alignmentgroup": "True",
         "bingroup": "x",
         "hovertemplate": "Interacoes_Suporte=3<br>Cancelou=%{x}<br>count=%{y}<extra></extra>",
         "legendgroup": "3",
         "marker": {
          "color": "#EF553B",
          "pattern": {
           "shape": ""
          }
         },
         "name": "3",
         "offsetgroup": "3",
         "orientation": "v",
         "showlegend": true,
         "texttemplate": "%{value}",
         "type": "histogram",
         "x": [
          "Renovou",
          "Renovou",
          "Cancelou",
          "Renovou",
          "Renovou",
          "Cancelou",
          "Cancelou",
          "Renovou",
          "Cancelou",
          "Cancelou",
          "Renovou",
          "Renovou",
          "Cancelou",
          "Renovou",
          "Cancelou",
          "Renovou",
          "Cancelou",
          "Cancelou",
          "Renovou",
          "Cancelou",
          "Cancelou",
          "Cancelou",
          "Renovou",
          "Cancelou",
          "Cancelou",
          "Renovou",
          "Renovou",
          "Renovou",
          "Renovou",
          "Renovou",
          "Renovou",
          "Cancelou",
          "Renovou",
          "Renovou",
          "Renovou",
          "Cancelou",
          "Cancelou",
          "Renovou"
         ],
         "xaxis": "x",
         "yaxis": "y"
        },
        {
         "alignmentgroup": "True",
         "bingroup": "x",
         "hovertemplate": "Interacoes_Suporte=2<br>Cancelou=%{x}<br>count=%{y}<extra></extra>",
         "legendgroup": "2",
         "marker": {
          "color": "#00cc96",
          "pattern": {
           "shape": ""
          }
         },
         "name": "2",
         "offsetgroup": "2",
         "orientation": "v",
         "showlegend": true,
         "texttemplate": "%{value}",
         "type": "histogram",
         "x": [
          "Cancelou",
          "Renovou",
          "Renovou",
          "Cancelou",
          "Renovou",
          "Cancelou",
          "Renovou",
          "Renovou",
          "Cancelou",
          "Renovou",
          "Cancelou",
          "Renovou",
          "Renovou",
          "Renovou",
          "Renovou",
          "Cancelou",
          "Renovou",
          "Renovou",
          "Renovou",
          "Renovou",
          "Renovou",
          "Renovou",
          "Cancelou",
          "Renovou",
          "Renovou",
          "Renovou",
          "Renovou",
          "Cancelou",
          "Cancelou",
          "Renovou",
          "Renovou",
          "Cancelou",
          "Renovou",
          "Renovou",
          "Renovou",
          "Renovou",
          "Renovou",
          "Renovou",
          "Renovou",
          "Cancelou",
          "Renovou",
          "Renovou",
          "Renovou",
          "Renovou",
          "Cancelou",
          "Cancelou",
          "Renovou",
          "Renovou",
          "Renovou"
         ],
         "xaxis": "x",
         "yaxis": "y"
        },
        {
         "alignmentgroup": "True",
         "bingroup": "x",
         "hovertemplate": "Interacoes_Suporte=1<br>Cancelou=%{x}<br>count=%{y}<extra></extra>",
         "legendgroup": "1",
         "marker": {
          "color": "#ab63fa",
          "pattern": {
           "shape": ""
          }
         },
         "name": "1",
         "offsetgroup": "1",
         "orientation": "v",
         "showlegend": true,
         "texttemplate": "%{value}",
         "type": "histogram",
         "x": [
          "Renovou",
          "Renovou",
          "Renovou",
          "Renovou",
          "Renovou",
          "Cancelou",
          "Renovou",
          "Renovou",
          "Renovou",
          "Renovou",
          "Renovou",
          "Cancelou",
          "Renovou",
          "Renovou",
          "Renovou",
          "Renovou",
          "Renovou",
          "Renovou",
          "Renovou",
          "Cancelou",
          "Cancelou",
          "Cancelou",
          "Renovou",
          "Renovou",
          "Cancelou",
          "Renovou",
          "Renovou",
          "Renovou",
          "Renovou",
          "Cancelou",
          "Renovou",
          "Cancelou",
          "Renovou",
          "Cancelou",
          "Cancelou",
          "Renovou",
          "Renovou",
          "Renovou",
          "Renovou",
          "Renovou",
          "Cancelou",
          "Renovou",
          "Cancelou",
          "Cancelou",
          "Renovou",
          "Renovou",
          "Renovou",
          "Renovou",
          "Renovou",
          "Renovou",
          "Cancelou"
         ],
         "xaxis": "x",
         "yaxis": "y"
        },
        {
         "alignmentgroup": "True",
         "bingroup": "x",
         "hovertemplate": "Interacoes_Suporte=5<br>Cancelou=%{x}<br>count=%{y}<extra></extra>",
         "legendgroup": "5",
         "marker": {
          "color": "#FFA15A",
          "pattern": {
           "shape": ""
          }
         },
         "name": "5",
         "offsetgroup": "5",
         "orientation": "v",
         "showlegend": true,
         "texttemplate": "%{value}",
         "type": "histogram",
         "x": [
          "Cancelou",
          "Renovou",
          "Cancelou",
          "Cancelou",
          "Cancelou",
          "Renovou",
          "Renovou",
          "Renovou",
          "Cancelou",
          "Renovou",
          "Renovou",
          "Cancelou",
          "Cancelou",
          "Cancelou",
          "Cancelou",
          "Cancelou",
          "Renovou",
          "Renovou",
          "Cancelou",
          "Renovou",
          "Cancelou",
          "Renovou",
          "Renovou",
          "Renovou",
          "Renovou",
          "Cancelou",
          "Cancelou",
          "Renovou",
          "Cancelou",
          "Renovou",
          "Renovou",
          "Renovou",
          "Renovou",
          "Renovou",
          "Renovou",
          "Renovou",
          "Renovou",
          "Renovou",
          "Renovou",
          "Renovou",
          "Cancelou",
          "Renovou",
          "Renovou",
          "Renovou"
         ],
         "xaxis": "x",
         "yaxis": "y"
        },
        {
         "alignmentgroup": "True",
         "bingroup": "x",
         "hovertemplate": "Interacoes_Suporte=7<br>Cancelou=%{x}<br>count=%{y}<extra></extra>",
         "legendgroup": "7",
         "marker": {
          "color": "#19d3f3",
          "pattern": {
           "shape": ""
          }
         },
         "name": "7",
         "offsetgroup": "7",
         "orientation": "v",
         "showlegend": true,
         "texttemplate": "%{value}",
         "type": "histogram",
         "x": [
          "Cancelou",
          "Renovou",
          "Cancelou",
          "Cancelou",
          "Cancelou",
          "Cancelou",
          "Renovou",
          "Renovou",
          "Renovou",
          "Renovou",
          "Renovou",
          "Renovou",
          "Cancelou",
          "Renovou",
          "Cancelou",
          "Renovou",
          "Cancelou",
          "Renovou",
          "Renovou",
          "Renovou",
          "Renovou",
          "Renovou",
          "Renovou",
          "Cancelou",
          "Renovou",
          "Renovou",
          "Cancelou",
          "Renovou",
          "Renovou",
          "Renovou",
          "Renovou",
          "Renovou",
          "Cancelou",
          "Renovou",
          "Cancelou"
         ],
         "xaxis": "x",
         "yaxis": "y"
        },
        {
         "alignmentgroup": "True",
         "bingroup": "x",
         "hovertemplate": "Interacoes_Suporte=4<br>Cancelou=%{x}<br>count=%{y}<extra></extra>",
         "legendgroup": "4",
         "marker": {
          "color": "#FF6692",
          "pattern": {
           "shape": ""
          }
         },
         "name": "4",
         "offsetgroup": "4",
         "orientation": "v",
         "showlegend": true,
         "texttemplate": "%{value}",
         "type": "histogram",
         "x": [
          "Renovou",
          "Cancelou",
          "Cancelou",
          "Renovou",
          "Cancelou",
          "Renovou",
          "Cancelou",
          "Renovou",
          "Renovou",
          "Renovou",
          "Renovou",
          "Cancelou",
          "Cancelou",
          "Cancelou",
          "Renovou",
          "Cancelou",
          "Cancelou",
          "Cancelou",
          "Renovou",
          "Renovou",
          "Renovou",
          "Renovou",
          "Cancelou",
          "Renovou",
          "Renovou",
          "Cancelou",
          "Cancelou",
          "Cancelou",
          "Renovou",
          "Renovou",
          "Renovou",
          "Cancelou"
         ],
         "xaxis": "x",
         "yaxis": "y"
        },
        {
         "alignmentgroup": "True",
         "bingroup": "x",
         "hovertemplate": "Interacoes_Suporte=0<br>Cancelou=%{x}<br>count=%{y}<extra></extra>",
         "legendgroup": "0",
         "marker": {
          "color": "#B6E880",
          "pattern": {
           "shape": ""
          }
         },
         "name": "0",
         "offsetgroup": "0",
         "orientation": "v",
         "showlegend": true,
         "texttemplate": "%{value}",
         "type": "histogram",
         "x": [
          "Renovou",
          "Cancelou",
          "Cancelou",
          "Renovou",
          "Renovou",
          "Cancelou",
          "Renovou",
          "Cancelou",
          "Renovou",
          "Renovou",
          "Cancelou",
          "Renovou",
          "Renovou",
          "Cancelou",
          "Renovou",
          "Renovou",
          "Cancelou",
          "Renovou",
          "Renovou",
          "Renovou",
          "Cancelou",
          "Renovou",
          "Cancelou",
          "Renovou",
          "Renovou",
          "Renovou",
          "Renovou",
          "Renovou",
          "Renovou",
          "Cancelou",
          "Renovou",
          "Renovou",
          "Cancelou",
          "Cancelou",
          "Cancelou",
          "Cancelou",
          "Cancelou"
         ],
         "xaxis": "x",
         "yaxis": "y"
        },
        {
         "alignmentgroup": "True",
         "bingroup": "x",
         "hovertemplate": "Interacoes_Suporte=9<br>Cancelou=%{x}<br>count=%{y}<extra></extra>",
         "legendgroup": "9",
         "marker": {
          "color": "#FF97FF",
          "pattern": {
           "shape": ""
          }
         },
         "name": "9",
         "offsetgroup": "9",
         "orientation": "v",
         "showlegend": true,
         "texttemplate": "%{value}",
         "type": "histogram",
         "x": [
          "Cancelou",
          "Renovou",
          "Cancelou",
          "Renovou",
          "Renovou",
          "Renovou",
          "Renovou",
          "Renovou",
          "Renovou",
          "Cancelou",
          "Renovou",
          "Renovou",
          "Renovou",
          "Cancelou",
          "Cancelou",
          "Renovou",
          "Cancelou"
         ],
         "xaxis": "x",
         "yaxis": "y"
        },
        {
         "alignmentgroup": "True",
         "bingroup": "x",
         "hovertemplate": "Interacoes_Suporte=13<br>Cancelou=%{x}<br>count=%{y}<extra></extra>",
         "legendgroup": "13",
         "marker": {
          "color": "#FECB52",
          "pattern": {
           "shape": ""
          }
         },
         "name": "13",
         "offsetgroup": "13",
         "orientation": "v",
         "showlegend": true,
         "texttemplate": "%{value}",
         "type": "histogram",
         "x": [
          "Cancelou",
          "Renovou",
          "Renovou",
          "Cancelou",
          "Cancelou",
          "Renovou",
          "Renovou",
          "Cancelou",
          "Renovou",
          "Renovou",
          "Cancelou",
          "Renovou",
          "Renovou",
          "Renovou",
          "Cancelou",
          "Cancelou",
          "Renovou",
          "Renovou",
          "Renovou",
          "Renovou",
          "Cancelou",
          "Cancelou",
          "Renovou",
          "Renovou",
          "Cancelou",
          "Renovou",
          "Cancelou",
          "Renovou"
         ],
         "xaxis": "x",
         "yaxis": "y"
        },
        {
         "alignmentgroup": "True",
         "bingroup": "x",
         "hovertemplate": "Interacoes_Suporte=11<br>Cancelou=%{x}<br>count=%{y}<extra></extra>",
         "legendgroup": "11",
         "marker": {
          "color": "#636efa",
          "pattern": {
           "shape": ""
          }
         },
         "name": "11",
         "offsetgroup": "11",
         "orientation": "v",
         "showlegend": true,
         "texttemplate": "%{value}",
         "type": "histogram",
         "x": [
          "Renovou",
          "Renovou",
          "Cancelou",
          "Cancelou",
          "Cancelou",
          "Cancelou",
          "Renovou",
          "Cancelou",
          "Renovou",
          "Renovou",
          "Cancelou",
          "Renovou",
          "Cancelou",
          "Renovou",
          "Renovou",
          "Renovou",
          "Renovou",
          "Renovou",
          "Cancelou",
          "Renovou",
          "Renovou",
          "Cancelou",
          "Cancelou",
          "Renovou",
          "Renovou",
          "Renovou",
          "Renovou",
          "Renovou",
          "Renovou",
          "Renovou",
          "Renovou"
         ],
         "xaxis": "x",
         "yaxis": "y"
        },
        {
         "alignmentgroup": "True",
         "bingroup": "x",
         "hovertemplate": "Interacoes_Suporte=12<br>Cancelou=%{x}<br>count=%{y}<extra></extra>",
         "legendgroup": "12",
         "marker": {
          "color": "#EF553B",
          "pattern": {
           "shape": ""
          }
         },
         "name": "12",
         "offsetgroup": "12",
         "orientation": "v",
         "showlegend": true,
         "texttemplate": "%{value}",
         "type": "histogram",
         "x": [
          "Cancelou",
          "Renovou",
          "Renovou",
          "Renovou",
          "Renovou",
          "Cancelou",
          "Cancelou",
          "Renovou",
          "Renovou",
          "Cancelou",
          "Renovou",
          "Renovou",
          "Cancelou",
          "Cancelou",
          "Renovou",
          "Cancelou",
          "Cancelou",
          "Renovou",
          "Renovou",
          "Renovou",
          "Cancelou",
          "Cancelou",
          "Renovou",
          "Renovou",
          "Cancelou",
          "Renovou"
         ],
         "xaxis": "x",
         "yaxis": "y"
        },
        {
         "alignmentgroup": "True",
         "bingroup": "x",
         "hovertemplate": "Interacoes_Suporte=8<br>Cancelou=%{x}<br>count=%{y}<extra></extra>",
         "legendgroup": "8",
         "marker": {
          "color": "#00cc96",
          "pattern": {
           "shape": ""
          }
         },
         "name": "8",
         "offsetgroup": "8",
         "orientation": "v",
         "showlegend": true,
         "texttemplate": "%{value}",
         "type": "histogram",
         "x": [
          "Cancelou",
          "Renovou",
          "Cancelou",
          "Renovou",
          "Renovou",
          "Cancelou",
          "Cancelou",
          "Renovou",
          "Cancelou",
          "Renovou",
          "Renovou",
          "Renovou",
          "Renovou",
          "Renovou",
          "Cancelou",
          "Cancelou",
          "Renovou",
          "Renovou",
          "Cancelou",
          "Cancelou",
          "Renovou",
          "Renovou",
          "Cancelou",
          "Renovou",
          "Cancelou",
          "Renovou",
          "Renovou",
          "Cancelou",
          "Renovou",
          "Renovou",
          "Renovou",
          "Renovou"
         ],
         "xaxis": "x",
         "yaxis": "y"
        },
        {
         "alignmentgroup": "True",
         "bingroup": "x",
         "hovertemplate": "Interacoes_Suporte=14<br>Cancelou=%{x}<br>count=%{y}<extra></extra>",
         "legendgroup": "14",
         "marker": {
          "color": "#ab63fa",
          "pattern": {
           "shape": ""
          }
         },
         "name": "14",
         "offsetgroup": "14",
         "orientation": "v",
         "showlegend": true,
         "texttemplate": "%{value}",
         "type": "histogram",
         "x": [
          "Cancelou",
          "Cancelou",
          "Renovou",
          "Renovou",
          "Cancelou",
          "Cancelou",
          "Renovou",
          "Renovou",
          "Renovou",
          "Renovou",
          "Cancelou",
          "Renovou",
          "Cancelou",
          "Renovou",
          "Renovou",
          "Cancelou",
          "Renovou",
          "Renovou",
          "Renovou",
          "Renovou",
          "Renovou",
          "Cancelou",
          "Renovou",
          "Cancelou",
          "Cancelou",
          "Renovou",
          "Cancelou",
          "Renovou",
          "Renovou",
          "Cancelou"
         ],
         "xaxis": "x",
         "yaxis": "y"
        },
        {
         "alignmentgroup": "True",
         "bingroup": "x",
         "hovertemplate": "Interacoes_Suporte=6<br>Cancelou=%{x}<br>count=%{y}<extra></extra>",
         "legendgroup": "6",
         "marker": {
          "color": "#FFA15A",
          "pattern": {
           "shape": ""
          }
         },
         "name": "6",
         "offsetgroup": "6",
         "orientation": "v",
         "showlegend": true,
         "texttemplate": "%{value}",
         "type": "histogram",
         "x": [
          "Cancelou",
          "Renovou",
          "Cancelou",
          "Renovou",
          "Renovou",
          "Renovou",
          "Cancelou",
          "Cancelou",
          "Renovou",
          "Cancelou",
          "Renovou",
          "Cancelou",
          "Cancelou",
          "Renovou",
          "Renovou",
          "Renovou",
          "Renovou",
          "Cancelou",
          "Renovou",
          "Renovou",
          "Renovou",
          "Renovou",
          "Renovou",
          "Renovou",
          "Renovou",
          "Renovou"
         ],
         "xaxis": "x",
         "yaxis": "y"
        }
       ],
       "layout": {
        "barmode": "relative",
        "legend": {
         "title": {
          "text": "Interacoes_Suporte"
         },
         "tracegroupgap": 0
        },
        "margin": {
         "t": 60
        },
        "template": {
         "data": {
          "bar": [
           {
            "error_x": {
             "color": "#2a3f5f"
            },
            "error_y": {
             "color": "#2a3f5f"
            },
            "marker": {
             "line": {
              "color": "#E5ECF6",
              "width": 0.5
             },
             "pattern": {
              "fillmode": "overlay",
              "size": 10,
              "solidity": 0.2
             }
            },
            "type": "bar"
           }
          ],
          "barpolar": [
           {
            "marker": {
             "line": {
              "color": "#E5ECF6",
              "width": 0.5
             },
             "pattern": {
              "fillmode": "overlay",
              "size": 10,
              "solidity": 0.2
             }
            },
            "type": "barpolar"
           }
          ],
          "carpet": [
           {
            "aaxis": {
             "endlinecolor": "#2a3f5f",
             "gridcolor": "white",
             "linecolor": "white",
             "minorgridcolor": "white",
             "startlinecolor": "#2a3f5f"
            },
            "baxis": {
             "endlinecolor": "#2a3f5f",
             "gridcolor": "white",
             "linecolor": "white",
             "minorgridcolor": "white",
             "startlinecolor": "#2a3f5f"
            },
            "type": "carpet"
           }
          ],
          "choropleth": [
           {
            "colorbar": {
             "outlinewidth": 0,
             "ticks": ""
            },
            "type": "choropleth"
           }
          ],
          "contour": [
           {
            "colorbar": {
             "outlinewidth": 0,
             "ticks": ""
            },
            "colorscale": [
             [
              0,
              "#0d0887"
             ],
             [
              0.1111111111111111,
              "#46039f"
             ],
             [
              0.2222222222222222,
              "#7201a8"
             ],
             [
              0.3333333333333333,
              "#9c179e"
             ],
             [
              0.4444444444444444,
              "#bd3786"
             ],
             [
              0.5555555555555556,
              "#d8576b"
             ],
             [
              0.6666666666666666,
              "#ed7953"
             ],
             [
              0.7777777777777778,
              "#fb9f3a"
             ],
             [
              0.8888888888888888,
              "#fdca26"
             ],
             [
              1,
              "#f0f921"
             ]
            ],
            "type": "contour"
           }
          ],
          "contourcarpet": [
           {
            "colorbar": {
             "outlinewidth": 0,
             "ticks": ""
            },
            "type": "contourcarpet"
           }
          ],
          "heatmap": [
           {
            "colorbar": {
             "outlinewidth": 0,
             "ticks": ""
            },
            "colorscale": [
             [
              0,
              "#0d0887"
             ],
             [
              0.1111111111111111,
              "#46039f"
             ],
             [
              0.2222222222222222,
              "#7201a8"
             ],
             [
              0.3333333333333333,
              "#9c179e"
             ],
             [
              0.4444444444444444,
              "#bd3786"
             ],
             [
              0.5555555555555556,
              "#d8576b"
             ],
             [
              0.6666666666666666,
              "#ed7953"
             ],
             [
              0.7777777777777778,
              "#fb9f3a"
             ],
             [
              0.8888888888888888,
              "#fdca26"
             ],
             [
              1,
              "#f0f921"
             ]
            ],
            "type": "heatmap"
           }
          ],
          "heatmapgl": [
           {
            "colorbar": {
             "outlinewidth": 0,
             "ticks": ""
            },
            "colorscale": [
             [
              0,
              "#0d0887"
             ],
             [
              0.1111111111111111,
              "#46039f"
             ],
             [
              0.2222222222222222,
              "#7201a8"
             ],
             [
              0.3333333333333333,
              "#9c179e"
             ],
             [
              0.4444444444444444,
              "#bd3786"
             ],
             [
              0.5555555555555556,
              "#d8576b"
             ],
             [
              0.6666666666666666,
              "#ed7953"
             ],
             [
              0.7777777777777778,
              "#fb9f3a"
             ],
             [
              0.8888888888888888,
              "#fdca26"
             ],
             [
              1,
              "#f0f921"
             ]
            ],
            "type": "heatmapgl"
           }
          ],
          "histogram": [
           {
            "marker": {
             "pattern": {
              "fillmode": "overlay",
              "size": 10,
              "solidity": 0.2
             }
            },
            "type": "histogram"
           }
          ],
          "histogram2d": [
           {
            "colorbar": {
             "outlinewidth": 0,
             "ticks": ""
            },
            "colorscale": [
             [
              0,
              "#0d0887"
             ],
             [
              0.1111111111111111,
              "#46039f"
             ],
             [
              0.2222222222222222,
              "#7201a8"
             ],
             [
              0.3333333333333333,
              "#9c179e"
             ],
             [
              0.4444444444444444,
              "#bd3786"
             ],
             [
              0.5555555555555556,
              "#d8576b"
             ],
             [
              0.6666666666666666,
              "#ed7953"
             ],
             [
              0.7777777777777778,
              "#fb9f3a"
             ],
             [
              0.8888888888888888,
              "#fdca26"
             ],
             [
              1,
              "#f0f921"
             ]
            ],
            "type": "histogram2d"
           }
          ],
          "histogram2dcontour": [
           {
            "colorbar": {
             "outlinewidth": 0,
             "ticks": ""
            },
            "colorscale": [
             [
              0,
              "#0d0887"
             ],
             [
              0.1111111111111111,
              "#46039f"
             ],
             [
              0.2222222222222222,
              "#7201a8"
             ],
             [
              0.3333333333333333,
              "#9c179e"
             ],
             [
              0.4444444444444444,
              "#bd3786"
             ],
             [
              0.5555555555555556,
              "#d8576b"
             ],
             [
              0.6666666666666666,
              "#ed7953"
             ],
             [
              0.7777777777777778,
              "#fb9f3a"
             ],
             [
              0.8888888888888888,
              "#fdca26"
             ],
             [
              1,
              "#f0f921"
             ]
            ],
            "type": "histogram2dcontour"
           }
          ],
          "mesh3d": [
           {
            "colorbar": {
             "outlinewidth": 0,
             "ticks": ""
            },
            "type": "mesh3d"
           }
          ],
          "parcoords": [
           {
            "line": {
             "colorbar": {
              "outlinewidth": 0,
              "ticks": ""
             }
            },
            "type": "parcoords"
           }
          ],
          "pie": [
           {
            "automargin": true,
            "type": "pie"
           }
          ],
          "scatter": [
           {
            "fillpattern": {
             "fillmode": "overlay",
             "size": 10,
             "solidity": 0.2
            },
            "type": "scatter"
           }
          ],
          "scatter3d": [
           {
            "line": {
             "colorbar": {
              "outlinewidth": 0,
              "ticks": ""
             }
            },
            "marker": {
             "colorbar": {
              "outlinewidth": 0,
              "ticks": ""
             }
            },
            "type": "scatter3d"
           }
          ],
          "scattercarpet": [
           {
            "marker": {
             "colorbar": {
              "outlinewidth": 0,
              "ticks": ""
             }
            },
            "type": "scattercarpet"
           }
          ],
          "scattergeo": [
           {
            "marker": {
             "colorbar": {
              "outlinewidth": 0,
              "ticks": ""
             }
            },
            "type": "scattergeo"
           }
          ],
          "scattergl": [
           {
            "marker": {
             "colorbar": {
              "outlinewidth": 0,
              "ticks": ""
             }
            },
            "type": "scattergl"
           }
          ],
          "scattermapbox": [
           {
            "marker": {
             "colorbar": {
              "outlinewidth": 0,
              "ticks": ""
             }
            },
            "type": "scattermapbox"
           }
          ],
          "scatterpolar": [
           {
            "marker": {
             "colorbar": {
              "outlinewidth": 0,
              "ticks": ""
             }
            },
            "type": "scatterpolar"
           }
          ],
          "scatterpolargl": [
           {
            "marker": {
             "colorbar": {
              "outlinewidth": 0,
              "ticks": ""
             }
            },
            "type": "scatterpolargl"
           }
          ],
          "scatterternary": [
           {
            "marker": {
             "colorbar": {
              "outlinewidth": 0,
              "ticks": ""
             }
            },
            "type": "scatterternary"
           }
          ],
          "surface": [
           {
            "colorbar": {
             "outlinewidth": 0,
             "ticks": ""
            },
            "colorscale": [
             [
              0,
              "#0d0887"
             ],
             [
              0.1111111111111111,
              "#46039f"
             ],
             [
              0.2222222222222222,
              "#7201a8"
             ],
             [
              0.3333333333333333,
              "#9c179e"
             ],
             [
              0.4444444444444444,
              "#bd3786"
             ],
             [
              0.5555555555555556,
              "#d8576b"
             ],
             [
              0.6666666666666666,
              "#ed7953"
             ],
             [
              0.7777777777777778,
              "#fb9f3a"
             ],
             [
              0.8888888888888888,
              "#fdca26"
             ],
             [
              1,
              "#f0f921"
             ]
            ],
            "type": "surface"
           }
          ],
          "table": [
           {
            "cells": {
             "fill": {
              "color": "#EBF0F8"
             },
             "line": {
              "color": "white"
             }
            },
            "header": {
             "fill": {
              "color": "#C8D4E3"
             },
             "line": {
              "color": "white"
             }
            },
            "type": "table"
           }
          ]
         },
         "layout": {
          "annotationdefaults": {
           "arrowcolor": "#2a3f5f",
           "arrowhead": 0,
           "arrowwidth": 1
          },
          "autotypenumbers": "strict",
          "coloraxis": {
           "colorbar": {
            "outlinewidth": 0,
            "ticks": ""
           }
          },
          "colorscale": {
           "diverging": [
            [
             0,
             "#8e0152"
            ],
            [
             0.1,
             "#c51b7d"
            ],
            [
             0.2,
             "#de77ae"
            ],
            [
             0.3,
             "#f1b6da"
            ],
            [
             0.4,
             "#fde0ef"
            ],
            [
             0.5,
             "#f7f7f7"
            ],
            [
             0.6,
             "#e6f5d0"
            ],
            [
             0.7,
             "#b8e186"
            ],
            [
             0.8,
             "#7fbc41"
            ],
            [
             0.9,
             "#4d9221"
            ],
            [
             1,
             "#276419"
            ]
           ],
           "sequential": [
            [
             0,
             "#0d0887"
            ],
            [
             0.1111111111111111,
             "#46039f"
            ],
            [
             0.2222222222222222,
             "#7201a8"
            ],
            [
             0.3333333333333333,
             "#9c179e"
            ],
            [
             0.4444444444444444,
             "#bd3786"
            ],
            [
             0.5555555555555556,
             "#d8576b"
            ],
            [
             0.6666666666666666,
             "#ed7953"
            ],
            [
             0.7777777777777778,
             "#fb9f3a"
            ],
            [
             0.8888888888888888,
             "#fdca26"
            ],
            [
             1,
             "#f0f921"
            ]
           ],
           "sequentialminus": [
            [
             0,
             "#0d0887"
            ],
            [
             0.1111111111111111,
             "#46039f"
            ],
            [
             0.2222222222222222,
             "#7201a8"
            ],
            [
             0.3333333333333333,
             "#9c179e"
            ],
            [
             0.4444444444444444,
             "#bd3786"
            ],
            [
             0.5555555555555556,
             "#d8576b"
            ],
            [
             0.6666666666666666,
             "#ed7953"
            ],
            [
             0.7777777777777778,
             "#fb9f3a"
            ],
            [
             0.8888888888888888,
             "#fdca26"
            ],
            [
             1,
             "#f0f921"
            ]
           ]
          },
          "colorway": [
           "#636efa",
           "#EF553B",
           "#00cc96",
           "#ab63fa",
           "#FFA15A",
           "#19d3f3",
           "#FF6692",
           "#B6E880",
           "#FF97FF",
           "#FECB52"
          ],
          "font": {
           "color": "#2a3f5f"
          },
          "geo": {
           "bgcolor": "white",
           "lakecolor": "white",
           "landcolor": "#E5ECF6",
           "showlakes": true,
           "showland": true,
           "subunitcolor": "white"
          },
          "hoverlabel": {
           "align": "left"
          },
          "hovermode": "closest",
          "mapbox": {
           "style": "light"
          },
          "paper_bgcolor": "white",
          "plot_bgcolor": "#E5ECF6",
          "polar": {
           "angularaxis": {
            "gridcolor": "white",
            "linecolor": "white",
            "ticks": ""
           },
           "bgcolor": "#E5ECF6",
           "radialaxis": {
            "gridcolor": "white",
            "linecolor": "white",
            "ticks": ""
           }
          },
          "scene": {
           "xaxis": {
            "backgroundcolor": "#E5ECF6",
            "gridcolor": "white",
            "gridwidth": 2,
            "linecolor": "white",
            "showbackground": true,
            "ticks": "",
            "zerolinecolor": "white"
           },
           "yaxis": {
            "backgroundcolor": "#E5ECF6",
            "gridcolor": "white",
            "gridwidth": 2,
            "linecolor": "white",
            "showbackground": true,
            "ticks": "",
            "zerolinecolor": "white"
           },
           "zaxis": {
            "backgroundcolor": "#E5ECF6",
            "gridcolor": "white",
            "gridwidth": 2,
            "linecolor": "white",
            "showbackground": true,
            "ticks": "",
            "zerolinecolor": "white"
           }
          },
          "shapedefaults": {
           "line": {
            "color": "#2a3f5f"
           }
          },
          "ternary": {
           "aaxis": {
            "gridcolor": "white",
            "linecolor": "white",
            "ticks": ""
           },
           "baxis": {
            "gridcolor": "white",
            "linecolor": "white",
            "ticks": ""
           },
           "bgcolor": "#E5ECF6",
           "caxis": {
            "gridcolor": "white",
            "linecolor": "white",
            "ticks": ""
           }
          },
          "title": {
           "x": 0.05
          },
          "xaxis": {
           "automargin": true,
           "gridcolor": "white",
           "linecolor": "white",
           "ticks": "",
           "title": {
            "standoff": 15
           },
           "zerolinecolor": "white",
           "zerolinewidth": 2
          },
          "yaxis": {
           "automargin": true,
           "gridcolor": "white",
           "linecolor": "white",
           "ticks": "",
           "title": {
            "standoff": 15
           },
           "zerolinecolor": "white",
           "zerolinewidth": 2
          }
         }
        },
        "xaxis": {
         "anchor": "y",
         "domain": [
          0,
          1
         ],
         "title": {
          "text": "Cancelou"
         }
        },
        "yaxis": {
         "anchor": "x",
         "domain": [
          0,
          1
         ],
         "title": {
          "text": "count"
         }
        }
       }
      }
     },
     "metadata": {},
     "output_type": "display_data"
    },
    {
     "data": {
      "application/vnd.plotly.v1+json": {
       "config": {
        "plotlyServerURL": "https://plot.ly"
       },
       "data": [
        {
         "alignmentgroup": "True",
         "bingroup": "x",
         "hovertemplate": "Cancelou=%{x}<br>count=%{y}<extra></extra>",
         "legendgroup": "Cancelou",
         "marker": {
          "color": "#636efa",
          "pattern": {
           "shape": ""
          }
         },
         "name": "Cancelou",
         "offsetgroup": "Cancelou",
         "orientation": "v",
         "showlegend": true,
         "texttemplate": "%{value}",
         "type": "histogram",
         "x": [
          "Cancelou",
          "Cancelou",
          "Cancelou",
          "Cancelou",
          "Cancelou",
          "Cancelou",
          "Cancelou",
          "Cancelou",
          "Cancelou",
          "Cancelou",
          "Cancelou",
          "Cancelou",
          "Cancelou",
          "Cancelou",
          "Cancelou",
          "Cancelou",
          "Cancelou",
          "Cancelou",
          "Cancelou",
          "Cancelou",
          "Cancelou",
          "Cancelou",
          "Cancelou",
          "Cancelou",
          "Cancelou",
          "Cancelou",
          "Cancelou",
          "Cancelou",
          "Cancelou",
          "Cancelou",
          "Cancelou",
          "Cancelou",
          "Cancelou",
          "Cancelou",
          "Cancelou",
          "Cancelou",
          "Cancelou",
          "Cancelou",
          "Cancelou",
          "Cancelou",
          "Cancelou",
          "Cancelou",
          "Cancelou",
          "Cancelou",
          "Cancelou",
          "Cancelou",
          "Cancelou",
          "Cancelou",
          "Cancelou",
          "Cancelou",
          "Cancelou",
          "Cancelou",
          "Cancelou",
          "Cancelou",
          "Cancelou",
          "Cancelou",
          "Cancelou",
          "Cancelou",
          "Cancelou",
          "Cancelou",
          "Cancelou",
          "Cancelou",
          "Cancelou",
          "Cancelou",
          "Cancelou",
          "Cancelou",
          "Cancelou",
          "Cancelou",
          "Cancelou",
          "Cancelou",
          "Cancelou",
          "Cancelou",
          "Cancelou",
          "Cancelou",
          "Cancelou",
          "Cancelou",
          "Cancelou",
          "Cancelou",
          "Cancelou",
          "Cancelou",
          "Cancelou",
          "Cancelou",
          "Cancelou",
          "Cancelou",
          "Cancelou",
          "Cancelou",
          "Cancelou",
          "Cancelou",
          "Cancelou",
          "Cancelou",
          "Cancelou",
          "Cancelou",
          "Cancelou",
          "Cancelou",
          "Cancelou",
          "Cancelou",
          "Cancelou",
          "Cancelou",
          "Cancelou",
          "Cancelou",
          "Cancelou",
          "Cancelou",
          "Cancelou",
          "Cancelou",
          "Cancelou",
          "Cancelou",
          "Cancelou",
          "Cancelou",
          "Cancelou",
          "Cancelou",
          "Cancelou",
          "Cancelou",
          "Cancelou",
          "Cancelou",
          "Cancelou",
          "Cancelou",
          "Cancelou",
          "Cancelou",
          "Cancelou",
          "Cancelou",
          "Cancelou",
          "Cancelou",
          "Cancelou",
          "Cancelou",
          "Cancelou",
          "Cancelou",
          "Cancelou",
          "Cancelou",
          "Cancelou",
          "Cancelou",
          "Cancelou",
          "Cancelou",
          "Cancelou",
          "Cancelou",
          "Cancelou",
          "Cancelou",
          "Cancelou",
          "Cancelou",
          "Cancelou",
          "Cancelou",
          "Cancelou",
          "Cancelou",
          "Cancelou",
          "Cancelou",
          "Cancelou",
          "Cancelou",
          "Cancelou",
          "Cancelou",
          "Cancelou",
          "Cancelou",
          "Cancelou",
          "Cancelou",
          "Cancelou",
          "Cancelou",
          "Cancelou",
          "Cancelou",
          "Cancelou",
          "Cancelou",
          "Cancelou",
          "Cancelou",
          "Cancelou",
          "Cancelou",
          "Cancelou",
          "Cancelou",
          "Cancelou",
          "Cancelou",
          "Cancelou",
          "Cancelou",
          "Cancelou",
          "Cancelou",
          "Cancelou",
          "Cancelou",
          "Cancelou",
          "Cancelou",
          "Cancelou",
          "Cancelou",
          "Cancelou",
          "Cancelou",
          "Cancelou",
          "Cancelou",
          "Cancelou"
         ],
         "xaxis": "x",
         "yaxis": "y"
        },
        {
         "alignmentgroup": "True",
         "bingroup": "x",
         "hovertemplate": "Cancelou=%{x}<br>count=%{y}<extra></extra>",
         "legendgroup": "Renovou",
         "marker": {
          "color": "#EF553B",
          "pattern": {
           "shape": ""
          }
         },
         "name": "Renovou",
         "offsetgroup": "Renovou",
         "orientation": "v",
         "showlegend": true,
         "texttemplate": "%{value}",
         "type": "histogram",
         "x": [
          "Renovou",
          "Renovou",
          "Renovou",
          "Renovou",
          "Renovou",
          "Renovou",
          "Renovou",
          "Renovou",
          "Renovou",
          "Renovou",
          "Renovou",
          "Renovou",
          "Renovou",
          "Renovou",
          "Renovou",
          "Renovou",
          "Renovou",
          "Renovou",
          "Renovou",
          "Renovou",
          "Renovou",
          "Renovou",
          "Renovou",
          "Renovou",
          "Renovou",
          "Renovou",
          "Renovou",
          "Renovou",
          "Renovou",
          "Renovou",
          "Renovou",
          "Renovou",
          "Renovou",
          "Renovou",
          "Renovou",
          "Renovou",
          "Renovou",
          "Renovou",
          "Renovou",
          "Renovou",
          "Renovou",
          "Renovou",
          "Renovou",
          "Renovou",
          "Renovou",
          "Renovou",
          "Renovou",
          "Renovou",
          "Renovou",
          "Renovou",
          "Renovou",
          "Renovou",
          "Renovou",
          "Renovou",
          "Renovou",
          "Renovou",
          "Renovou",
          "Renovou",
          "Renovou",
          "Renovou",
          "Renovou",
          "Renovou",
          "Renovou",
          "Renovou",
          "Renovou",
          "Renovou",
          "Renovou",
          "Renovou",
          "Renovou",
          "Renovou",
          "Renovou",
          "Renovou",
          "Renovou",
          "Renovou",
          "Renovou",
          "Renovou",
          "Renovou",
          "Renovou",
          "Renovou",
          "Renovou",
          "Renovou",
          "Renovou",
          "Renovou",
          "Renovou",
          "Renovou",
          "Renovou",
          "Renovou",
          "Renovou",
          "Renovou",
          "Renovou",
          "Renovou",
          "Renovou",
          "Renovou",
          "Renovou",
          "Renovou",
          "Renovou",
          "Renovou",
          "Renovou",
          "Renovou",
          "Renovou",
          "Renovou",
          "Renovou",
          "Renovou",
          "Renovou",
          "Renovou",
          "Renovou",
          "Renovou",
          "Renovou",
          "Renovou",
          "Renovou",
          "Renovou",
          "Renovou",
          "Renovou",
          "Renovou",
          "Renovou",
          "Renovou",
          "Renovou",
          "Renovou",
          "Renovou",
          "Renovou",
          "Renovou",
          "Renovou",
          "Renovou",
          "Renovou",
          "Renovou",
          "Renovou",
          "Renovou",
          "Renovou",
          "Renovou",
          "Renovou",
          "Renovou",
          "Renovou",
          "Renovou",
          "Renovou",
          "Renovou",
          "Renovou",
          "Renovou",
          "Renovou",
          "Renovou",
          "Renovou",
          "Renovou",
          "Renovou",
          "Renovou",
          "Renovou",
          "Renovou",
          "Renovou",
          "Renovou",
          "Renovou",
          "Renovou",
          "Renovou",
          "Renovou",
          "Renovou",
          "Renovou",
          "Renovou",
          "Renovou",
          "Renovou",
          "Renovou",
          "Renovou",
          "Renovou",
          "Renovou",
          "Renovou",
          "Renovou",
          "Renovou",
          "Renovou",
          "Renovou",
          "Renovou",
          "Renovou",
          "Renovou",
          "Renovou",
          "Renovou",
          "Renovou",
          "Renovou",
          "Renovou",
          "Renovou",
          "Renovou",
          "Renovou",
          "Renovou",
          "Renovou",
          "Renovou",
          "Renovou",
          "Renovou",
          "Renovou",
          "Renovou",
          "Renovou",
          "Renovou",
          "Renovou",
          "Renovou",
          "Renovou",
          "Renovou",
          "Renovou",
          "Renovou",
          "Renovou",
          "Renovou",
          "Renovou",
          "Renovou",
          "Renovou",
          "Renovou",
          "Renovou",
          "Renovou",
          "Renovou",
          "Renovou",
          "Renovou",
          "Renovou",
          "Renovou",
          "Renovou",
          "Renovou",
          "Renovou",
          "Renovou",
          "Renovou",
          "Renovou",
          "Renovou",
          "Renovou",
          "Renovou",
          "Renovou",
          "Renovou",
          "Renovou",
          "Renovou",
          "Renovou",
          "Renovou",
          "Renovou",
          "Renovou",
          "Renovou",
          "Renovou",
          "Renovou",
          "Renovou",
          "Renovou",
          "Renovou",
          "Renovou",
          "Renovou",
          "Renovou",
          "Renovou",
          "Renovou",
          "Renovou",
          "Renovou",
          "Renovou",
          "Renovou",
          "Renovou",
          "Renovou",
          "Renovou",
          "Renovou",
          "Renovou",
          "Renovou",
          "Renovou",
          "Renovou",
          "Renovou",
          "Renovou",
          "Renovou",
          "Renovou",
          "Renovou",
          "Renovou",
          "Renovou",
          "Renovou",
          "Renovou",
          "Renovou",
          "Renovou",
          "Renovou",
          "Renovou",
          "Renovou",
          "Renovou",
          "Renovou",
          "Renovou",
          "Renovou",
          "Renovou",
          "Renovou",
          "Renovou",
          "Renovou",
          "Renovou",
          "Renovou",
          "Renovou",
          "Renovou",
          "Renovou",
          "Renovou",
          "Renovou",
          "Renovou",
          "Renovou",
          "Renovou",
          "Renovou",
          "Renovou",
          "Renovou",
          "Renovou",
          "Renovou",
          "Renovou",
          "Renovou",
          "Renovou",
          "Renovou",
          "Renovou",
          "Renovou",
          "Renovou",
          "Renovou",
          "Renovou",
          "Renovou",
          "Renovou",
          "Renovou",
          "Renovou",
          "Renovou",
          "Renovou",
          "Renovou",
          "Renovou",
          "Renovou",
          "Renovou",
          "Renovou",
          "Renovou",
          "Renovou",
          "Renovou",
          "Renovou",
          "Renovou",
          "Renovou",
          "Renovou",
          "Renovou",
          "Renovou",
          "Renovou",
          "Renovou",
          "Renovou",
          "Renovou",
          "Renovou",
          "Renovou",
          "Renovou",
          "Renovou",
          "Renovou"
         ],
         "xaxis": "x",
         "yaxis": "y"
        }
       ],
       "layout": {
        "barmode": "relative",
        "legend": {
         "title": {
          "text": "Cancelou"
         },
         "tracegroupgap": 0
        },
        "margin": {
         "t": 60
        },
        "template": {
         "data": {
          "bar": [
           {
            "error_x": {
             "color": "#2a3f5f"
            },
            "error_y": {
             "color": "#2a3f5f"
            },
            "marker": {
             "line": {
              "color": "#E5ECF6",
              "width": 0.5
             },
             "pattern": {
              "fillmode": "overlay",
              "size": 10,
              "solidity": 0.2
             }
            },
            "type": "bar"
           }
          ],
          "barpolar": [
           {
            "marker": {
             "line": {
              "color": "#E5ECF6",
              "width": 0.5
             },
             "pattern": {
              "fillmode": "overlay",
              "size": 10,
              "solidity": 0.2
             }
            },
            "type": "barpolar"
           }
          ],
          "carpet": [
           {
            "aaxis": {
             "endlinecolor": "#2a3f5f",
             "gridcolor": "white",
             "linecolor": "white",
             "minorgridcolor": "white",
             "startlinecolor": "#2a3f5f"
            },
            "baxis": {
             "endlinecolor": "#2a3f5f",
             "gridcolor": "white",
             "linecolor": "white",
             "minorgridcolor": "white",
             "startlinecolor": "#2a3f5f"
            },
            "type": "carpet"
           }
          ],
          "choropleth": [
           {
            "colorbar": {
             "outlinewidth": 0,
             "ticks": ""
            },
            "type": "choropleth"
           }
          ],
          "contour": [
           {
            "colorbar": {
             "outlinewidth": 0,
             "ticks": ""
            },
            "colorscale": [
             [
              0,
              "#0d0887"
             ],
             [
              0.1111111111111111,
              "#46039f"
             ],
             [
              0.2222222222222222,
              "#7201a8"
             ],
             [
              0.3333333333333333,
              "#9c179e"
             ],
             [
              0.4444444444444444,
              "#bd3786"
             ],
             [
              0.5555555555555556,
              "#d8576b"
             ],
             [
              0.6666666666666666,
              "#ed7953"
             ],
             [
              0.7777777777777778,
              "#fb9f3a"
             ],
             [
              0.8888888888888888,
              "#fdca26"
             ],
             [
              1,
              "#f0f921"
             ]
            ],
            "type": "contour"
           }
          ],
          "contourcarpet": [
           {
            "colorbar": {
             "outlinewidth": 0,
             "ticks": ""
            },
            "type": "contourcarpet"
           }
          ],
          "heatmap": [
           {
            "colorbar": {
             "outlinewidth": 0,
             "ticks": ""
            },
            "colorscale": [
             [
              0,
              "#0d0887"
             ],
             [
              0.1111111111111111,
              "#46039f"
             ],
             [
              0.2222222222222222,
              "#7201a8"
             ],
             [
              0.3333333333333333,
              "#9c179e"
             ],
             [
              0.4444444444444444,
              "#bd3786"
             ],
             [
              0.5555555555555556,
              "#d8576b"
             ],
             [
              0.6666666666666666,
              "#ed7953"
             ],
             [
              0.7777777777777778,
              "#fb9f3a"
             ],
             [
              0.8888888888888888,
              "#fdca26"
             ],
             [
              1,
              "#f0f921"
             ]
            ],
            "type": "heatmap"
           }
          ],
          "heatmapgl": [
           {
            "colorbar": {
             "outlinewidth": 0,
             "ticks": ""
            },
            "colorscale": [
             [
              0,
              "#0d0887"
             ],
             [
              0.1111111111111111,
              "#46039f"
             ],
             [
              0.2222222222222222,
              "#7201a8"
             ],
             [
              0.3333333333333333,
              "#9c179e"
             ],
             [
              0.4444444444444444,
              "#bd3786"
             ],
             [
              0.5555555555555556,
              "#d8576b"
             ],
             [
              0.6666666666666666,
              "#ed7953"
             ],
             [
              0.7777777777777778,
              "#fb9f3a"
             ],
             [
              0.8888888888888888,
              "#fdca26"
             ],
             [
              1,
              "#f0f921"
             ]
            ],
            "type": "heatmapgl"
           }
          ],
          "histogram": [
           {
            "marker": {
             "pattern": {
              "fillmode": "overlay",
              "size": 10,
              "solidity": 0.2
             }
            },
            "type": "histogram"
           }
          ],
          "histogram2d": [
           {
            "colorbar": {
             "outlinewidth": 0,
             "ticks": ""
            },
            "colorscale": [
             [
              0,
              "#0d0887"
             ],
             [
              0.1111111111111111,
              "#46039f"
             ],
             [
              0.2222222222222222,
              "#7201a8"
             ],
             [
              0.3333333333333333,
              "#9c179e"
             ],
             [
              0.4444444444444444,
              "#bd3786"
             ],
             [
              0.5555555555555556,
              "#d8576b"
             ],
             [
              0.6666666666666666,
              "#ed7953"
             ],
             [
              0.7777777777777778,
              "#fb9f3a"
             ],
             [
              0.8888888888888888,
              "#fdca26"
             ],
             [
              1,
              "#f0f921"
             ]
            ],
            "type": "histogram2d"
           }
          ],
          "histogram2dcontour": [
           {
            "colorbar": {
             "outlinewidth": 0,
             "ticks": ""
            },
            "colorscale": [
             [
              0,
              "#0d0887"
             ],
             [
              0.1111111111111111,
              "#46039f"
             ],
             [
              0.2222222222222222,
              "#7201a8"
             ],
             [
              0.3333333333333333,
              "#9c179e"
             ],
             [
              0.4444444444444444,
              "#bd3786"
             ],
             [
              0.5555555555555556,
              "#d8576b"
             ],
             [
              0.6666666666666666,
              "#ed7953"
             ],
             [
              0.7777777777777778,
              "#fb9f3a"
             ],
             [
              0.8888888888888888,
              "#fdca26"
             ],
             [
              1,
              "#f0f921"
             ]
            ],
            "type": "histogram2dcontour"
           }
          ],
          "mesh3d": [
           {
            "colorbar": {
             "outlinewidth": 0,
             "ticks": ""
            },
            "type": "mesh3d"
           }
          ],
          "parcoords": [
           {
            "line": {
             "colorbar": {
              "outlinewidth": 0,
              "ticks": ""
             }
            },
            "type": "parcoords"
           }
          ],
          "pie": [
           {
            "automargin": true,
            "type": "pie"
           }
          ],
          "scatter": [
           {
            "fillpattern": {
             "fillmode": "overlay",
             "size": 10,
             "solidity": 0.2
            },
            "type": "scatter"
           }
          ],
          "scatter3d": [
           {
            "line": {
             "colorbar": {
              "outlinewidth": 0,
              "ticks": ""
             }
            },
            "marker": {
             "colorbar": {
              "outlinewidth": 0,
              "ticks": ""
             }
            },
            "type": "scatter3d"
           }
          ],
          "scattercarpet": [
           {
            "marker": {
             "colorbar": {
              "outlinewidth": 0,
              "ticks": ""
             }
            },
            "type": "scattercarpet"
           }
          ],
          "scattergeo": [
           {
            "marker": {
             "colorbar": {
              "outlinewidth": 0,
              "ticks": ""
             }
            },
            "type": "scattergeo"
           }
          ],
          "scattergl": [
           {
            "marker": {
             "colorbar": {
              "outlinewidth": 0,
              "ticks": ""
             }
            },
            "type": "scattergl"
           }
          ],
          "scattermapbox": [
           {
            "marker": {
             "colorbar": {
              "outlinewidth": 0,
              "ticks": ""
             }
            },
            "type": "scattermapbox"
           }
          ],
          "scatterpolar": [
           {
            "marker": {
             "colorbar": {
              "outlinewidth": 0,
              "ticks": ""
             }
            },
            "type": "scatterpolar"
           }
          ],
          "scatterpolargl": [
           {
            "marker": {
             "colorbar": {
              "outlinewidth": 0,
              "ticks": ""
             }
            },
            "type": "scatterpolargl"
           }
          ],
          "scatterternary": [
           {
            "marker": {
             "colorbar": {
              "outlinewidth": 0,
              "ticks": ""
             }
            },
            "type": "scatterternary"
           }
          ],
          "surface": [
           {
            "colorbar": {
             "outlinewidth": 0,
             "ticks": ""
            },
            "colorscale": [
             [
              0,
              "#0d0887"
             ],
             [
              0.1111111111111111,
              "#46039f"
             ],
             [
              0.2222222222222222,
              "#7201a8"
             ],
             [
              0.3333333333333333,
              "#9c179e"
             ],
             [
              0.4444444444444444,
              "#bd3786"
             ],
             [
              0.5555555555555556,
              "#d8576b"
             ],
             [
              0.6666666666666666,
              "#ed7953"
             ],
             [
              0.7777777777777778,
              "#fb9f3a"
             ],
             [
              0.8888888888888888,
              "#fdca26"
             ],
             [
              1,
              "#f0f921"
             ]
            ],
            "type": "surface"
           }
          ],
          "table": [
           {
            "cells": {
             "fill": {
              "color": "#EBF0F8"
             },
             "line": {
              "color": "white"
             }
            },
            "header": {
             "fill": {
              "color": "#C8D4E3"
             },
             "line": {
              "color": "white"
             }
            },
            "type": "table"
           }
          ]
         },
         "layout": {
          "annotationdefaults": {
           "arrowcolor": "#2a3f5f",
           "arrowhead": 0,
           "arrowwidth": 1
          },
          "autotypenumbers": "strict",
          "coloraxis": {
           "colorbar": {
            "outlinewidth": 0,
            "ticks": ""
           }
          },
          "colorscale": {
           "diverging": [
            [
             0,
             "#8e0152"
            ],
            [
             0.1,
             "#c51b7d"
            ],
            [
             0.2,
             "#de77ae"
            ],
            [
             0.3,
             "#f1b6da"
            ],
            [
             0.4,
             "#fde0ef"
            ],
            [
             0.5,
             "#f7f7f7"
            ],
            [
             0.6,
             "#e6f5d0"
            ],
            [
             0.7,
             "#b8e186"
            ],
            [
             0.8,
             "#7fbc41"
            ],
            [
             0.9,
             "#4d9221"
            ],
            [
             1,
             "#276419"
            ]
           ],
           "sequential": [
            [
             0,
             "#0d0887"
            ],
            [
             0.1111111111111111,
             "#46039f"
            ],
            [
             0.2222222222222222,
             "#7201a8"
            ],
            [
             0.3333333333333333,
             "#9c179e"
            ],
            [
             0.4444444444444444,
             "#bd3786"
            ],
            [
             0.5555555555555556,
             "#d8576b"
            ],
            [
             0.6666666666666666,
             "#ed7953"
            ],
            [
             0.7777777777777778,
             "#fb9f3a"
            ],
            [
             0.8888888888888888,
             "#fdca26"
            ],
            [
             1,
             "#f0f921"
            ]
           ],
           "sequentialminus": [
            [
             0,
             "#0d0887"
            ],
            [
             0.1111111111111111,
             "#46039f"
            ],
            [
             0.2222222222222222,
             "#7201a8"
            ],
            [
             0.3333333333333333,
             "#9c179e"
            ],
            [
             0.4444444444444444,
             "#bd3786"
            ],
            [
             0.5555555555555556,
             "#d8576b"
            ],
            [
             0.6666666666666666,
             "#ed7953"
            ],
            [
             0.7777777777777778,
             "#fb9f3a"
            ],
            [
             0.8888888888888888,
             "#fdca26"
            ],
            [
             1,
             "#f0f921"
            ]
           ]
          },
          "colorway": [
           "#636efa",
           "#EF553B",
           "#00cc96",
           "#ab63fa",
           "#FFA15A",
           "#19d3f3",
           "#FF6692",
           "#B6E880",
           "#FF97FF",
           "#FECB52"
          ],
          "font": {
           "color": "#2a3f5f"
          },
          "geo": {
           "bgcolor": "white",
           "lakecolor": "white",
           "landcolor": "#E5ECF6",
           "showlakes": true,
           "showland": true,
           "subunitcolor": "white"
          },
          "hoverlabel": {
           "align": "left"
          },
          "hovermode": "closest",
          "mapbox": {
           "style": "light"
          },
          "paper_bgcolor": "white",
          "plot_bgcolor": "#E5ECF6",
          "polar": {
           "angularaxis": {
            "gridcolor": "white",
            "linecolor": "white",
            "ticks": ""
           },
           "bgcolor": "#E5ECF6",
           "radialaxis": {
            "gridcolor": "white",
            "linecolor": "white",
            "ticks": ""
           }
          },
          "scene": {
           "xaxis": {
            "backgroundcolor": "#E5ECF6",
            "gridcolor": "white",
            "gridwidth": 2,
            "linecolor": "white",
            "showbackground": true,
            "ticks": "",
            "zerolinecolor": "white"
           },
           "yaxis": {
            "backgroundcolor": "#E5ECF6",
            "gridcolor": "white",
            "gridwidth": 2,
            "linecolor": "white",
            "showbackground": true,
            "ticks": "",
            "zerolinecolor": "white"
           },
           "zaxis": {
            "backgroundcolor": "#E5ECF6",
            "gridcolor": "white",
            "gridwidth": 2,
            "linecolor": "white",
            "showbackground": true,
            "ticks": "",
            "zerolinecolor": "white"
           }
          },
          "shapedefaults": {
           "line": {
            "color": "#2a3f5f"
           }
          },
          "ternary": {
           "aaxis": {
            "gridcolor": "white",
            "linecolor": "white",
            "ticks": ""
           },
           "baxis": {
            "gridcolor": "white",
            "linecolor": "white",
            "ticks": ""
           },
           "bgcolor": "#E5ECF6",
           "caxis": {
            "gridcolor": "white",
            "linecolor": "white",
            "ticks": ""
           }
          },
          "title": {
           "x": 0.05
          },
          "xaxis": {
           "automargin": true,
           "gridcolor": "white",
           "linecolor": "white",
           "ticks": "",
           "title": {
            "standoff": 15
           },
           "zerolinecolor": "white",
           "zerolinewidth": 2
          },
          "yaxis": {
           "automargin": true,
           "gridcolor": "white",
           "linecolor": "white",
           "ticks": "",
           "title": {
            "standoff": 15
           },
           "zerolinecolor": "white",
           "zerolinewidth": 2
          }
         }
        },
        "xaxis": {
         "anchor": "y",
         "categoryarray": [
          "Cancelou",
          "Renovou"
         ],
         "categoryorder": "array",
         "domain": [
          0,
          1
         ],
         "title": {
          "text": "Cancelou"
         }
        },
        "yaxis": {
         "anchor": "x",
         "domain": [
          0,
          1
         ],
         "title": {
          "text": "count"
         }
        }
       }
      }
     },
     "metadata": {},
     "output_type": "display_data"
    }
   ],
   "source": [
    "import plotly.express as px\n",
    "\n",
    "for coluna in tabela.columns:\n",
    "    grafico = px.histogram(tabela, x=\"Cancelou\", color=coluna, text_auto=True)\n",
    "    grafico.show()"
   ]
  }
 ],
 "metadata": {
  "kernelspec": {
   "display_name": "Python 3",
   "language": "python",
   "name": "python3"
  },
  "language_info": {
   "codemirror_mode": {
    "name": "ipython",
    "version": 3
   },
   "file_extension": ".py",
   "mimetype": "text/x-python",
   "name": "python",
   "nbconvert_exporter": "python",
   "pygments_lexer": "ipython3",
   "version": "3.12.10"
  }
 },
 "nbformat": 4,
 "nbformat_minor": 5
}
